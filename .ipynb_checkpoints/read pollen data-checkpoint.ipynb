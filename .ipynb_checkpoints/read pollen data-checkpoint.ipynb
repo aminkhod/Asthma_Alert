{
 "cells": [
  {
   "cell_type": "code",
   "execution_count": 1,
   "id": "cf37d258",
   "metadata": {},
   "outputs": [],
   "source": [
    "import requests\n",
    "from bs4 import BeautifulSoup\n",
    "import pandas as pd"
   ]
  },
  {
   "cell_type": "code",
   "execution_count": 2,
   "id": "43a9a5d2",
   "metadata": {},
   "outputs": [],
   "source": [
    "dateList = []\n",
    "pollenIntensity = []\n",
    "pollenTypeList = []"
   ]
  },
  {
   "cell_type": "code",
   "execution_count": 3,
   "id": "5db24758",
   "metadata": {},
   "outputs": [],
   "source": [
    "baselink = \"https://www.rpaerobiologia.com/boletim-polinico/arquivo/2019/edicao-\"\n",
    "baseYear = 2019\n",
    "boletimNumber = 25\n",
    "k = 0\n",
    "for year in range(4):\n",
    "    if year == 1:\n",
    "        continue\n",
    "    for boletim in range(boletimNumber):\n",
    "        link = baselink.replace('2019', str(baseYear + year)).replace('edicao-', 'edicao-' + str(boletim + 1))\n",
    "#         print(link, baselink)\n",
    "#         break\n",
    "        if '200' in str(requests.get(link)):\n",
    "            k += 1\n",
    "#             print('Eureka!', k)\n",
    "        else:\n",
    "            continue\n",
    "        f = requests.get(link)\n",
    "        doc = f.text\n",
    "        # Initialize the object with the document\n",
    "        soup = BeautifulSoup(doc, \"html.parser\")\n",
    "\n",
    "        # Get the whole body tag\n",
    "        tag = soup.body\n",
    "#         print(tag.find_all('strong')[0].text)\n",
    "        if tag.find_all('strong')[0].text == '1. Responsável pelo tratamento dos dados pessoais':\n",
    "            \n",
    "#             print('we are here')\n",
    "            \n",
    "            continue\n",
    "        dateList.append(tag.find_all('strong')[0].text)\n",
    "        for par in tag.find_all('p'):\n",
    "        #     print(par)\n",
    "            if 'região de Lisboa e Setúbal' in par.text:\n",
    "\n",
    "#                 print(par.find_all('strong'))\n",
    "                pollenIntensity.append(par.find_all('strong')[1].text)\n",
    "                text = ''\n",
    "                for i in range(2, len(par.find_all('strong'))):\n",
    "                    text += str(par.find_all('strong')[i].text) + '/'\n",
    "                pollenTypeList.append(text)\n",
    "\n",
    "# print(dateList)\n",
    "# print(pollenIntensity)\n",
    "# print(pollenTypeList)"
   ]
  },
  {
   "cell_type": "code",
   "execution_count": 4,
   "id": "5068973e",
   "metadata": {},
   "outputs": [],
   "source": [
    "df = pd.DataFrame([dateList, pollenIntensity,pollenTypeList]).T\n",
    "df.columns=['date', 'pollen_intensity', 'pollen_source_type']\n",
    "# df['pollen_source_type'][2]\n",
    "df\n",
    "df.to_csv('pollen data.csv', index=False)"
   ]
  },
  {
   "cell_type": "code",
   "execution_count": 5,
   "id": "eb957314",
   "metadata": {},
   "outputs": [],
   "source": [
    "# # link = \"https://www.rpaerobiologia.com/boletim-polinico/arquivo/2019/edicao-13\"\n",
    "# f = requests.get(link)\n",
    "# # print(f.text)\n",
    "# # # type(f.text)\n",
    "# doc = f.text\n",
    "# # Initialize the object with the document\n",
    "# soup = BeautifulSoup(doc, \"html.parser\")\n",
    " \n",
    "# # Get the whole body tag\n",
    "# tag = soup.body\n",
    "\n",
    "# dateList.append(tag.find_all('strong')[0].text)\n",
    "# for par in tag.find_all('p'):\n",
    "# #     print(par)\n",
    "#     if 'região de Lisboa e Setúbal' in par.text:\n",
    "        \n",
    "#         print(par.find_all('strong'))\n",
    "#         pollenIntensity.append(par.find_all('strong')[1].text)\n",
    "#         for i in range(2, len(par.find_all('strong'))):\n",
    "#             pollenTypeList.append(par.find_all('strong')[i].text)\n",
    "        \n",
    "# #     if par.find_all('p'):\n",
    "# #         print(par.text)\n",
    "# #         break\n",
    "# # tag.find_all('strong')"
   ]
  },
  {
   "cell_type": "code",
   "execution_count": 6,
   "id": "035d1d2b",
   "metadata": {},
   "outputs": [],
   "source": [
    "# print(dateList)\n",
    "# print(pollenIntensity)\n",
    "# print(pollenTypeList)"
   ]
  },
  {
   "cell_type": "code",
   "execution_count": null,
   "id": "89e819cb",
   "metadata": {},
   "outputs": [],
   "source": []
  }
 ],
 "metadata": {
  "kernelspec": {
   "display_name": "Python 3",
   "language": "python",
   "name": "python3"
  },
  "language_info": {
   "codemirror_mode": {
    "name": "ipython",
    "version": 3
   },
   "file_extension": ".py",
   "mimetype": "text/x-python",
   "name": "python",
   "nbconvert_exporter": "python",
   "pygments_lexer": "ipython3",
   "version": "3.8.10"
  }
 },
 "nbformat": 4,
 "nbformat_minor": 5
}
