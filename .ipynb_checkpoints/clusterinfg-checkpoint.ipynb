{
 "cells": [
  {
   "cell_type": "code",
   "execution_count": 1,
   "id": "4a884cd8",
   "metadata": {},
   "outputs": [],
   "source": [
    "import numpy as np # linear algebra\n",
    "import pandas as pd # data processing, CSV file I/O (e.g. pd.read_csv)\n",
    "\n",
    "import matplotlib.pyplot as plt\n",
    "import matplotlib\n",
    "from matplotlib.patches import Patch\n",
    "from matplotlib.lines import Line2D\n",
    "\n",
    "import seaborn as sns\n",
    "sns.set_theme(style=\"ticks\", color_codes=True)\n",
    "\n",
    "\n",
    "from collections import Counter, defaultdict\n",
    "\n",
    "\n",
    "from sklearn import preprocessing\n",
    "# from sklearn import manifold\n",
    "from sklearn.cluster import KMeans, Birch, DBSCAN\n",
    "\n",
    "\n",
    "\n",
    "from sklearn import metrics\n",
    "\n",
    "from scipy.stats import sem, t\n",
    "from scipy import mean\n",
    "\n",
    "from sklearn.decomposition import PCA\n",
    "from sklearn.preprocessing import MinMaxScaler\n",
    "\n"
   ]
  },
  {
   "cell_type": "code",
   "execution_count": 2,
   "id": "ec040d98",
   "metadata": {},
   "outputs": [
    {
     "data": {
      "text/html": [
       "<div>\n",
       "<style scoped>\n",
       "    .dataframe tbody tr th:only-of-type {\n",
       "        vertical-align: middle;\n",
       "    }\n",
       "\n",
       "    .dataframe tbody tr th {\n",
       "        vertical-align: top;\n",
       "    }\n",
       "\n",
       "    .dataframe thead th {\n",
       "        text-align: right;\n",
       "    }\n",
       "</style>\n",
       "<table border=\"1\" class=\"dataframe\">\n",
       "  <thead>\n",
       "    <tr style=\"text-align: right;\">\n",
       "      <th></th>\n",
       "      <th>datetime</th>\n",
       "      <th>tempmax</th>\n",
       "      <th>tempmin</th>\n",
       "      <th>temp</th>\n",
       "      <th>feelslikemax</th>\n",
       "      <th>feelslikemin</th>\n",
       "      <th>feelslike</th>\n",
       "      <th>dew</th>\n",
       "      <th>humidity</th>\n",
       "      <th>precip</th>\n",
       "      <th>...</th>\n",
       "      <th>sealevelpressure</th>\n",
       "      <th>cloudcover</th>\n",
       "      <th>visibility</th>\n",
       "      <th>solarradiation</th>\n",
       "      <th>solarenergy</th>\n",
       "      <th>uvindex</th>\n",
       "      <th>conditions</th>\n",
       "      <th>pollen_intensity</th>\n",
       "      <th>admission number</th>\n",
       "      <th>risk level</th>\n",
       "    </tr>\n",
       "  </thead>\n",
       "  <tbody>\n",
       "    <tr>\n",
       "      <th>0</th>\n",
       "      <td>2019-01-01</td>\n",
       "      <td>16.0</td>\n",
       "      <td>7.6</td>\n",
       "      <td>11.5</td>\n",
       "      <td>16.0</td>\n",
       "      <td>6.6</td>\n",
       "      <td>11.4</td>\n",
       "      <td>5.1</td>\n",
       "      <td>66.2</td>\n",
       "      <td>0.000</td>\n",
       "      <td>...</td>\n",
       "      <td>1031.6</td>\n",
       "      <td>1.2</td>\n",
       "      <td>10.1</td>\n",
       "      <td>117.2</td>\n",
       "      <td>10.3</td>\n",
       "      <td>5</td>\n",
       "      <td>Clear</td>\n",
       "      <td>good</td>\n",
       "      <td>5</td>\n",
       "      <td>high risk</td>\n",
       "    </tr>\n",
       "    <tr>\n",
       "      <th>1</th>\n",
       "      <td>2019-01-02</td>\n",
       "      <td>15.9</td>\n",
       "      <td>7.6</td>\n",
       "      <td>10.9</td>\n",
       "      <td>15.9</td>\n",
       "      <td>6.2</td>\n",
       "      <td>10.5</td>\n",
       "      <td>7.4</td>\n",
       "      <td>80.2</td>\n",
       "      <td>0.000</td>\n",
       "      <td>...</td>\n",
       "      <td>1029.9</td>\n",
       "      <td>3.5</td>\n",
       "      <td>9.1</td>\n",
       "      <td>57.6</td>\n",
       "      <td>4.8</td>\n",
       "      <td>3</td>\n",
       "      <td>Clear</td>\n",
       "      <td>good</td>\n",
       "      <td>3</td>\n",
       "      <td>moderate risk</td>\n",
       "    </tr>\n",
       "    <tr>\n",
       "      <th>2</th>\n",
       "      <td>2019-01-03</td>\n",
       "      <td>10.3</td>\n",
       "      <td>4.5</td>\n",
       "      <td>7.4</td>\n",
       "      <td>10.3</td>\n",
       "      <td>2.2</td>\n",
       "      <td>6.3</td>\n",
       "      <td>6.1</td>\n",
       "      <td>91.7</td>\n",
       "      <td>0.005</td>\n",
       "      <td>...</td>\n",
       "      <td>1027.3</td>\n",
       "      <td>5.5</td>\n",
       "      <td>4.3</td>\n",
       "      <td>116.9</td>\n",
       "      <td>10.2</td>\n",
       "      <td>5</td>\n",
       "      <td>Rain</td>\n",
       "      <td>good</td>\n",
       "      <td>1</td>\n",
       "      <td>low risk</td>\n",
       "    </tr>\n",
       "    <tr>\n",
       "      <th>3</th>\n",
       "      <td>2019-01-04</td>\n",
       "      <td>13.1</td>\n",
       "      <td>6.6</td>\n",
       "      <td>9.7</td>\n",
       "      <td>13.1</td>\n",
       "      <td>4.1</td>\n",
       "      <td>8.7</td>\n",
       "      <td>6.9</td>\n",
       "      <td>84.1</td>\n",
       "      <td>0.000</td>\n",
       "      <td>...</td>\n",
       "      <td>1029.9</td>\n",
       "      <td>13.1</td>\n",
       "      <td>6.5</td>\n",
       "      <td>101.0</td>\n",
       "      <td>8.8</td>\n",
       "      <td>5</td>\n",
       "      <td>Clear</td>\n",
       "      <td>good</td>\n",
       "      <td>5</td>\n",
       "      <td>high risk</td>\n",
       "    </tr>\n",
       "    <tr>\n",
       "      <th>4</th>\n",
       "      <td>2019-01-05</td>\n",
       "      <td>14.8</td>\n",
       "      <td>7.8</td>\n",
       "      <td>10.5</td>\n",
       "      <td>14.8</td>\n",
       "      <td>6.0</td>\n",
       "      <td>9.9</td>\n",
       "      <td>5.5</td>\n",
       "      <td>71.4</td>\n",
       "      <td>0.000</td>\n",
       "      <td>...</td>\n",
       "      <td>1033.3</td>\n",
       "      <td>0.4</td>\n",
       "      <td>9.9</td>\n",
       "      <td>128.6</td>\n",
       "      <td>11.1</td>\n",
       "      <td>5</td>\n",
       "      <td>Clear</td>\n",
       "      <td>good</td>\n",
       "      <td>2</td>\n",
       "      <td>moderate risk</td>\n",
       "    </tr>\n",
       "  </tbody>\n",
       "</table>\n",
       "<p>5 rows × 24 columns</p>\n",
       "</div>"
      ],
      "text/plain": [
       "     datetime  tempmax  tempmin  temp  feelslikemax  feelslikemin  feelslike  \\\n",
       "0  2019-01-01     16.0      7.6  11.5          16.0           6.6       11.4   \n",
       "1  2019-01-02     15.9      7.6  10.9          15.9           6.2       10.5   \n",
       "2  2019-01-03     10.3      4.5   7.4          10.3           2.2        6.3   \n",
       "3  2019-01-04     13.1      6.6   9.7          13.1           4.1        8.7   \n",
       "4  2019-01-05     14.8      7.8  10.5          14.8           6.0        9.9   \n",
       "\n",
       "   dew  humidity  precip  ...  sealevelpressure  cloudcover  visibility  \\\n",
       "0  5.1      66.2   0.000  ...            1031.6         1.2        10.1   \n",
       "1  7.4      80.2   0.000  ...            1029.9         3.5         9.1   \n",
       "2  6.1      91.7   0.005  ...            1027.3         5.5         4.3   \n",
       "3  6.9      84.1   0.000  ...            1029.9        13.1         6.5   \n",
       "4  5.5      71.4   0.000  ...            1033.3         0.4         9.9   \n",
       "\n",
       "   solarradiation  solarenergy  uvindex  conditions  pollen_intensity  \\\n",
       "0           117.2         10.3        5       Clear              good   \n",
       "1            57.6          4.8        3       Clear              good   \n",
       "2           116.9         10.2        5        Rain              good   \n",
       "3           101.0          8.8        5       Clear              good   \n",
       "4           128.6         11.1        5       Clear              good   \n",
       "\n",
       "   admission number     risk level  \n",
       "0                 5      high risk  \n",
       "1                 3  moderate risk  \n",
       "2                 1       low risk  \n",
       "3                 5      high risk  \n",
       "4                 2  moderate risk  \n",
       "\n",
       "[5 rows x 24 columns]"
      ]
     },
     "execution_count": 2,
     "metadata": {},
     "output_type": "execute_result"
    }
   ],
   "source": [
    "df = pd.read_csv('daily data.csv')\n",
    "df.head()"
   ]
  },
  {
   "cell_type": "code",
   "execution_count": 3,
   "id": "5f132f64",
   "metadata": {},
   "outputs": [
    {
     "data": {
      "text/plain": [
       "Index(['datetime', 'tempmax', 'tempmin', 'temp', 'feelslikemax',\n",
       "       'feelslikemin', 'feelslike', 'dew', 'humidity', 'precip', 'precipprob',\n",
       "       'precipcover', 'windgust', 'windspeed', 'sealevelpressure',\n",
       "       'cloudcover', 'visibility', 'solarradiation', 'solarenergy', 'uvindex',\n",
       "       'conditions', 'pollen_intensity', 'admission number', 'risk level'],\n",
       "      dtype='object')"
      ]
     },
     "execution_count": 3,
     "metadata": {},
     "output_type": "execute_result"
    }
   ],
   "source": [
    "df.columns"
   ]
  },
  {
   "cell_type": "code",
   "execution_count": 4,
   "id": "a35bc315",
   "metadata": {},
   "outputs": [
    {
     "data": {
      "text/html": [
       "<div>\n",
       "<style scoped>\n",
       "    .dataframe tbody tr th:only-of-type {\n",
       "        vertical-align: middle;\n",
       "    }\n",
       "\n",
       "    .dataframe tbody tr th {\n",
       "        vertical-align: top;\n",
       "    }\n",
       "\n",
       "    .dataframe thead th {\n",
       "        text-align: right;\n",
       "    }\n",
       "</style>\n",
       "<table border=\"1\" class=\"dataframe\">\n",
       "  <thead>\n",
       "    <tr style=\"text-align: right;\">\n",
       "      <th></th>\n",
       "      <th>tempmax</th>\n",
       "      <th>tempmin</th>\n",
       "      <th>temp</th>\n",
       "      <th>feelslikemax</th>\n",
       "      <th>feelslikemin</th>\n",
       "      <th>feelslike</th>\n",
       "      <th>dew</th>\n",
       "      <th>humidity</th>\n",
       "      <th>precip</th>\n",
       "      <th>precipprob</th>\n",
       "      <th>precipcover</th>\n",
       "      <th>windgust</th>\n",
       "      <th>windspeed</th>\n",
       "      <th>sealevelpressure</th>\n",
       "      <th>cloudcover</th>\n",
       "      <th>visibility</th>\n",
       "      <th>solarradiation</th>\n",
       "      <th>solarenergy</th>\n",
       "      <th>uvindex</th>\n",
       "      <th>admission number</th>\n",
       "    </tr>\n",
       "  </thead>\n",
       "  <tbody>\n",
       "    <tr>\n",
       "      <th>count</th>\n",
       "      <td>456.000000</td>\n",
       "      <td>456.000000</td>\n",
       "      <td>456.000000</td>\n",
       "      <td>456.000000</td>\n",
       "      <td>456.000000</td>\n",
       "      <td>456.000000</td>\n",
       "      <td>456.000000</td>\n",
       "      <td>456.000000</td>\n",
       "      <td>456.000000</td>\n",
       "      <td>456.000000</td>\n",
       "      <td>456.000000</td>\n",
       "      <td>200.000000</td>\n",
       "      <td>456.000000</td>\n",
       "      <td>456.000000</td>\n",
       "      <td>456.000000</td>\n",
       "      <td>456.000000</td>\n",
       "      <td>456.000000</td>\n",
       "      <td>456.000000</td>\n",
       "      <td>456.000000</td>\n",
       "      <td>456.000000</td>\n",
       "    </tr>\n",
       "    <tr>\n",
       "      <th>mean</th>\n",
       "      <td>20.847588</td>\n",
       "      <td>13.315789</td>\n",
       "      <td>16.593860</td>\n",
       "      <td>20.793640</td>\n",
       "      <td>13.047588</td>\n",
       "      <td>16.497588</td>\n",
       "      <td>10.912719</td>\n",
       "      <td>71.957895</td>\n",
       "      <td>1.378419</td>\n",
       "      <td>38.815789</td>\n",
       "      <td>9.676842</td>\n",
       "      <td>42.255000</td>\n",
       "      <td>21.939254</td>\n",
       "      <td>1019.577632</td>\n",
       "      <td>12.560088</td>\n",
       "      <td>10.751974</td>\n",
       "      <td>175.869079</td>\n",
       "      <td>15.179605</td>\n",
       "      <td>6.313596</td>\n",
       "      <td>2.412281</td>\n",
       "    </tr>\n",
       "    <tr>\n",
       "      <th>std</th>\n",
       "      <td>5.289774</td>\n",
       "      <td>3.851926</td>\n",
       "      <td>4.270065</td>\n",
       "      <td>5.184057</td>\n",
       "      <td>4.258638</td>\n",
       "      <td>4.350528</td>\n",
       "      <td>3.923154</td>\n",
       "      <td>14.455105</td>\n",
       "      <td>4.355401</td>\n",
       "      <td>48.786607</td>\n",
       "      <td>17.211368</td>\n",
       "      <td>11.202834</td>\n",
       "      <td>6.726834</td>\n",
       "      <td>6.127451</td>\n",
       "      <td>16.688511</td>\n",
       "      <td>1.401160</td>\n",
       "      <td>85.687420</td>\n",
       "      <td>7.412446</td>\n",
       "      <td>2.239582</td>\n",
       "      <td>1.812345</td>\n",
       "    </tr>\n",
       "    <tr>\n",
       "      <th>min</th>\n",
       "      <td>10.300000</td>\n",
       "      <td>4.500000</td>\n",
       "      <td>7.400000</td>\n",
       "      <td>10.300000</td>\n",
       "      <td>2.200000</td>\n",
       "      <td>6.200000</td>\n",
       "      <td>-3.200000</td>\n",
       "      <td>24.100000</td>\n",
       "      <td>0.000000</td>\n",
       "      <td>0.000000</td>\n",
       "      <td>0.000000</td>\n",
       "      <td>24.100000</td>\n",
       "      <td>8.200000</td>\n",
       "      <td>997.900000</td>\n",
       "      <td>0.000000</td>\n",
       "      <td>2.200000</td>\n",
       "      <td>11.100000</td>\n",
       "      <td>0.900000</td>\n",
       "      <td>1.000000</td>\n",
       "      <td>0.000000</td>\n",
       "    </tr>\n",
       "    <tr>\n",
       "      <th>25%</th>\n",
       "      <td>16.900000</td>\n",
       "      <td>10.500000</td>\n",
       "      <td>13.600000</td>\n",
       "      <td>16.900000</td>\n",
       "      <td>10.500000</td>\n",
       "      <td>13.500000</td>\n",
       "      <td>8.275000</td>\n",
       "      <td>63.075000</td>\n",
       "      <td>0.000000</td>\n",
       "      <td>0.000000</td>\n",
       "      <td>0.000000</td>\n",
       "      <td>33.500000</td>\n",
       "      <td>17.575000</td>\n",
       "      <td>1015.600000</td>\n",
       "      <td>2.800000</td>\n",
       "      <td>10.400000</td>\n",
       "      <td>111.800000</td>\n",
       "      <td>9.500000</td>\n",
       "      <td>5.000000</td>\n",
       "      <td>1.000000</td>\n",
       "    </tr>\n",
       "    <tr>\n",
       "      <th>50%</th>\n",
       "      <td>19.750000</td>\n",
       "      <td>12.650000</td>\n",
       "      <td>15.900000</td>\n",
       "      <td>19.750000</td>\n",
       "      <td>12.650000</td>\n",
       "      <td>15.900000</td>\n",
       "      <td>10.800000</td>\n",
       "      <td>72.000000</td>\n",
       "      <td>0.000000</td>\n",
       "      <td>0.000000</td>\n",
       "      <td>0.000000</td>\n",
       "      <td>40.700000</td>\n",
       "      <td>21.700000</td>\n",
       "      <td>1018.450000</td>\n",
       "      <td>6.400000</td>\n",
       "      <td>11.000000</td>\n",
       "      <td>171.350000</td>\n",
       "      <td>14.900000</td>\n",
       "      <td>7.000000</td>\n",
       "      <td>2.000000</td>\n",
       "    </tr>\n",
       "    <tr>\n",
       "      <th>75%</th>\n",
       "      <td>24.400000</td>\n",
       "      <td>16.700000</td>\n",
       "      <td>19.925000</td>\n",
       "      <td>24.400000</td>\n",
       "      <td>16.700000</td>\n",
       "      <td>19.925000</td>\n",
       "      <td>14.025000</td>\n",
       "      <td>82.225000</td>\n",
       "      <td>0.287000</td>\n",
       "      <td>100.000000</td>\n",
       "      <td>12.500000</td>\n",
       "      <td>48.200000</td>\n",
       "      <td>25.200000</td>\n",
       "      <td>1024.225000</td>\n",
       "      <td>12.350000</td>\n",
       "      <td>11.700000</td>\n",
       "      <td>245.050000</td>\n",
       "      <td>21.200000</td>\n",
       "      <td>8.000000</td>\n",
       "      <td>3.000000</td>\n",
       "    </tr>\n",
       "    <tr>\n",
       "      <th>max</th>\n",
       "      <td>35.200000</td>\n",
       "      <td>23.000000</td>\n",
       "      <td>28.600000</td>\n",
       "      <td>35.700000</td>\n",
       "      <td>23.000000</td>\n",
       "      <td>28.400000</td>\n",
       "      <td>21.000000</td>\n",
       "      <td>99.300000</td>\n",
       "      <td>39.750000</td>\n",
       "      <td>100.000000</td>\n",
       "      <td>79.170000</td>\n",
       "      <td>87.100000</td>\n",
       "      <td>59.000000</td>\n",
       "      <td>1033.400000</td>\n",
       "      <td>93.200000</td>\n",
       "      <td>12.600000</td>\n",
       "      <td>348.000000</td>\n",
       "      <td>30.000000</td>\n",
       "      <td>10.000000</td>\n",
       "      <td>9.000000</td>\n",
       "    </tr>\n",
       "  </tbody>\n",
       "</table>\n",
       "</div>"
      ],
      "text/plain": [
       "          tempmax     tempmin        temp  feelslikemax  feelslikemin  \\\n",
       "count  456.000000  456.000000  456.000000    456.000000    456.000000   \n",
       "mean    20.847588   13.315789   16.593860     20.793640     13.047588   \n",
       "std      5.289774    3.851926    4.270065      5.184057      4.258638   \n",
       "min     10.300000    4.500000    7.400000     10.300000      2.200000   \n",
       "25%     16.900000   10.500000   13.600000     16.900000     10.500000   \n",
       "50%     19.750000   12.650000   15.900000     19.750000     12.650000   \n",
       "75%     24.400000   16.700000   19.925000     24.400000     16.700000   \n",
       "max     35.200000   23.000000   28.600000     35.700000     23.000000   \n",
       "\n",
       "        feelslike         dew    humidity      precip  precipprob  \\\n",
       "count  456.000000  456.000000  456.000000  456.000000  456.000000   \n",
       "mean    16.497588   10.912719   71.957895    1.378419   38.815789   \n",
       "std      4.350528    3.923154   14.455105    4.355401   48.786607   \n",
       "min      6.200000   -3.200000   24.100000    0.000000    0.000000   \n",
       "25%     13.500000    8.275000   63.075000    0.000000    0.000000   \n",
       "50%     15.900000   10.800000   72.000000    0.000000    0.000000   \n",
       "75%     19.925000   14.025000   82.225000    0.287000  100.000000   \n",
       "max     28.400000   21.000000   99.300000   39.750000  100.000000   \n",
       "\n",
       "       precipcover    windgust   windspeed  sealevelpressure  cloudcover  \\\n",
       "count   456.000000  200.000000  456.000000        456.000000  456.000000   \n",
       "mean      9.676842   42.255000   21.939254       1019.577632   12.560088   \n",
       "std      17.211368   11.202834    6.726834          6.127451   16.688511   \n",
       "min       0.000000   24.100000    8.200000        997.900000    0.000000   \n",
       "25%       0.000000   33.500000   17.575000       1015.600000    2.800000   \n",
       "50%       0.000000   40.700000   21.700000       1018.450000    6.400000   \n",
       "75%      12.500000   48.200000   25.200000       1024.225000   12.350000   \n",
       "max      79.170000   87.100000   59.000000       1033.400000   93.200000   \n",
       "\n",
       "       visibility  solarradiation  solarenergy     uvindex  admission number  \n",
       "count  456.000000      456.000000   456.000000  456.000000        456.000000  \n",
       "mean    10.751974      175.869079    15.179605    6.313596          2.412281  \n",
       "std      1.401160       85.687420     7.412446    2.239582          1.812345  \n",
       "min      2.200000       11.100000     0.900000    1.000000          0.000000  \n",
       "25%     10.400000      111.800000     9.500000    5.000000          1.000000  \n",
       "50%     11.000000      171.350000    14.900000    7.000000          2.000000  \n",
       "75%     11.700000      245.050000    21.200000    8.000000          3.000000  \n",
       "max     12.600000      348.000000    30.000000   10.000000          9.000000  "
      ]
     },
     "execution_count": 4,
     "metadata": {},
     "output_type": "execute_result"
    }
   ],
   "source": [
    "df.describe()"
   ]
  },
  {
   "cell_type": "code",
   "execution_count": 5,
   "id": "4491e8fa",
   "metadata": {},
   "outputs": [
    {
     "data": {
      "text/plain": [
       "datetime              0\n",
       "tempmax               0\n",
       "tempmin               0\n",
       "temp                  0\n",
       "feelslikemax          0\n",
       "feelslikemin          0\n",
       "feelslike             0\n",
       "dew                   0\n",
       "humidity              0\n",
       "precip                0\n",
       "precipprob            0\n",
       "precipcover           0\n",
       "windgust            256\n",
       "windspeed             0\n",
       "sealevelpressure      0\n",
       "cloudcover            0\n",
       "visibility            0\n",
       "solarradiation        0\n",
       "solarenergy           0\n",
       "uvindex               0\n",
       "conditions            0\n",
       "pollen_intensity      0\n",
       "admission number      0\n",
       "risk level            0\n",
       "dtype: int64"
      ]
     },
     "execution_count": 5,
     "metadata": {},
     "output_type": "execute_result"
    }
   ],
   "source": [
    "df.isna().sum()"
   ]
  },
  {
   "cell_type": "markdown",
   "id": "eb0a167f",
   "metadata": {},
   "source": [
    "## dropping unwanted columns"
   ]
  },
  {
   "cell_type": "code",
   "execution_count": 6,
   "id": "befda94c",
   "metadata": {},
   "outputs": [],
   "source": [
    "toDrop = ['data_admissao', 'dicofre', 'distrito', 'concelho', 'freguesia', 'regiao', 'nacionalidade',\n",
    "         'cod_proveniencia', 'proveniencia', 'cod_causa', 'causa', 'cod_destino', 'destino',\n",
    "         'diagnostico', 'classe', 'asma', 'date', 'name','snow', 'snowdepth', 'winddir', 'cor',\n",
    "         'severerisk', 'sunrise', 'sunset', 'stations', 'icon', 'description', 'preciptype',\n",
    "         'moonphase', 'windgust', 'feelslikemax', 'feelslikemin', 'feelslike', 'uvindex', 'precipprob',\n",
    "         'precipcover', 'visibility', 'solarradiation', 'solarenergy', 'sealevelpressure',\n",
    "          'cloudcover']"
   ]
  },
  {
   "cell_type": "code",
   "execution_count": 7,
   "id": "96a33da2",
   "metadata": {},
   "outputs": [],
   "source": [
    "for col in df:\n",
    "    if col  in toDrop:\n",
    "        df.drop(col, axis=1, inplace=True)"
   ]
  },
  {
   "cell_type": "markdown",
   "id": "9376da76",
   "metadata": {},
   "source": [
    "## Encode categorical columns into numbers"
   ]
  },
  {
   "cell_type": "code",
   "execution_count": 8,
   "id": "1314f8dc",
   "metadata": {},
   "outputs": [
    {
     "data": {
      "text/html": [
       "<div>\n",
       "<style scoped>\n",
       "    .dataframe tbody tr th:only-of-type {\n",
       "        vertical-align: middle;\n",
       "    }\n",
       "\n",
       "    .dataframe tbody tr th {\n",
       "        vertical-align: top;\n",
       "    }\n",
       "\n",
       "    .dataframe thead th {\n",
       "        text-align: right;\n",
       "    }\n",
       "</style>\n",
       "<table border=\"1\" class=\"dataframe\">\n",
       "  <thead>\n",
       "    <tr style=\"text-align: right;\">\n",
       "      <th></th>\n",
       "      <th>datetime</th>\n",
       "      <th>tempmax</th>\n",
       "      <th>tempmin</th>\n",
       "      <th>temp</th>\n",
       "      <th>dew</th>\n",
       "      <th>humidity</th>\n",
       "      <th>precip</th>\n",
       "      <th>windspeed</th>\n",
       "      <th>pollen_intensity</th>\n",
       "      <th>admission number</th>\n",
       "      <th>risk level</th>\n",
       "      <th>Clear</th>\n",
       "      <th>Partially cloudy</th>\n",
       "      <th>Rain</th>\n",
       "      <th>Rain, Overcast</th>\n",
       "      <th>Rain, Partially cloudy</th>\n",
       "    </tr>\n",
       "  </thead>\n",
       "  <tbody>\n",
       "    <tr>\n",
       "      <th>0</th>\n",
       "      <td>2019-01-01</td>\n",
       "      <td>16.0</td>\n",
       "      <td>7.6</td>\n",
       "      <td>11.5</td>\n",
       "      <td>5.1</td>\n",
       "      <td>66.2</td>\n",
       "      <td>0.000</td>\n",
       "      <td>11.1</td>\n",
       "      <td>good</td>\n",
       "      <td>5</td>\n",
       "      <td>high risk</td>\n",
       "      <td>1</td>\n",
       "      <td>0</td>\n",
       "      <td>0</td>\n",
       "      <td>0</td>\n",
       "      <td>0</td>\n",
       "    </tr>\n",
       "    <tr>\n",
       "      <th>1</th>\n",
       "      <td>2019-01-02</td>\n",
       "      <td>15.9</td>\n",
       "      <td>7.6</td>\n",
       "      <td>10.9</td>\n",
       "      <td>7.4</td>\n",
       "      <td>80.2</td>\n",
       "      <td>0.000</td>\n",
       "      <td>16.4</td>\n",
       "      <td>good</td>\n",
       "      <td>3</td>\n",
       "      <td>moderate risk</td>\n",
       "      <td>1</td>\n",
       "      <td>0</td>\n",
       "      <td>0</td>\n",
       "      <td>0</td>\n",
       "      <td>0</td>\n",
       "    </tr>\n",
       "    <tr>\n",
       "      <th>2</th>\n",
       "      <td>2019-01-03</td>\n",
       "      <td>10.3</td>\n",
       "      <td>4.5</td>\n",
       "      <td>7.4</td>\n",
       "      <td>6.1</td>\n",
       "      <td>91.7</td>\n",
       "      <td>0.005</td>\n",
       "      <td>12.6</td>\n",
       "      <td>good</td>\n",
       "      <td>1</td>\n",
       "      <td>low risk</td>\n",
       "      <td>0</td>\n",
       "      <td>0</td>\n",
       "      <td>1</td>\n",
       "      <td>0</td>\n",
       "      <td>0</td>\n",
       "    </tr>\n",
       "    <tr>\n",
       "      <th>3</th>\n",
       "      <td>2019-01-04</td>\n",
       "      <td>13.1</td>\n",
       "      <td>6.6</td>\n",
       "      <td>9.7</td>\n",
       "      <td>6.9</td>\n",
       "      <td>84.1</td>\n",
       "      <td>0.000</td>\n",
       "      <td>16.8</td>\n",
       "      <td>good</td>\n",
       "      <td>5</td>\n",
       "      <td>high risk</td>\n",
       "      <td>1</td>\n",
       "      <td>0</td>\n",
       "      <td>0</td>\n",
       "      <td>0</td>\n",
       "      <td>0</td>\n",
       "    </tr>\n",
       "    <tr>\n",
       "      <th>4</th>\n",
       "      <td>2019-01-05</td>\n",
       "      <td>14.8</td>\n",
       "      <td>7.8</td>\n",
       "      <td>10.5</td>\n",
       "      <td>5.5</td>\n",
       "      <td>71.4</td>\n",
       "      <td>0.000</td>\n",
       "      <td>14.9</td>\n",
       "      <td>good</td>\n",
       "      <td>2</td>\n",
       "      <td>moderate risk</td>\n",
       "      <td>1</td>\n",
       "      <td>0</td>\n",
       "      <td>0</td>\n",
       "      <td>0</td>\n",
       "      <td>0</td>\n",
       "    </tr>\n",
       "    <tr>\n",
       "      <th>...</th>\n",
       "      <td>...</td>\n",
       "      <td>...</td>\n",
       "      <td>...</td>\n",
       "      <td>...</td>\n",
       "      <td>...</td>\n",
       "      <td>...</td>\n",
       "      <td>...</td>\n",
       "      <td>...</td>\n",
       "      <td>...</td>\n",
       "      <td>...</td>\n",
       "      <td>...</td>\n",
       "      <td>...</td>\n",
       "      <td>...</td>\n",
       "      <td>...</td>\n",
       "      <td>...</td>\n",
       "      <td>...</td>\n",
       "    </tr>\n",
       "    <tr>\n",
       "      <th>451</th>\n",
       "      <td>2020-03-27</td>\n",
       "      <td>17.9</td>\n",
       "      <td>10.1</td>\n",
       "      <td>13.3</td>\n",
       "      <td>7.0</td>\n",
       "      <td>67.0</td>\n",
       "      <td>0.000</td>\n",
       "      <td>18.1</td>\n",
       "      <td>good</td>\n",
       "      <td>0</td>\n",
       "      <td>low risk</td>\n",
       "      <td>0</td>\n",
       "      <td>1</td>\n",
       "      <td>0</td>\n",
       "      <td>0</td>\n",
       "      <td>0</td>\n",
       "    </tr>\n",
       "    <tr>\n",
       "      <th>452</th>\n",
       "      <td>2020-03-28</td>\n",
       "      <td>17.2</td>\n",
       "      <td>9.9</td>\n",
       "      <td>13.5</td>\n",
       "      <td>5.9</td>\n",
       "      <td>60.9</td>\n",
       "      <td>0.000</td>\n",
       "      <td>23.9</td>\n",
       "      <td>good</td>\n",
       "      <td>1</td>\n",
       "      <td>low risk</td>\n",
       "      <td>0</td>\n",
       "      <td>1</td>\n",
       "      <td>0</td>\n",
       "      <td>0</td>\n",
       "      <td>0</td>\n",
       "    </tr>\n",
       "    <tr>\n",
       "      <th>453</th>\n",
       "      <td>2020-03-29</td>\n",
       "      <td>18.4</td>\n",
       "      <td>11.0</td>\n",
       "      <td>14.4</td>\n",
       "      <td>9.6</td>\n",
       "      <td>73.6</td>\n",
       "      <td>0.000</td>\n",
       "      <td>21.9</td>\n",
       "      <td>good</td>\n",
       "      <td>0</td>\n",
       "      <td>low risk</td>\n",
       "      <td>0</td>\n",
       "      <td>1</td>\n",
       "      <td>0</td>\n",
       "      <td>0</td>\n",
       "      <td>0</td>\n",
       "    </tr>\n",
       "    <tr>\n",
       "      <th>454</th>\n",
       "      <td>2020-03-30</td>\n",
       "      <td>13.5</td>\n",
       "      <td>9.1</td>\n",
       "      <td>12.3</td>\n",
       "      <td>10.8</td>\n",
       "      <td>90.7</td>\n",
       "      <td>8.742</td>\n",
       "      <td>28.7</td>\n",
       "      <td>good</td>\n",
       "      <td>1</td>\n",
       "      <td>low risk</td>\n",
       "      <td>0</td>\n",
       "      <td>0</td>\n",
       "      <td>0</td>\n",
       "      <td>0</td>\n",
       "      <td>1</td>\n",
       "    </tr>\n",
       "    <tr>\n",
       "      <th>455</th>\n",
       "      <td>2020-03-31</td>\n",
       "      <td>13.4</td>\n",
       "      <td>7.1</td>\n",
       "      <td>9.2</td>\n",
       "      <td>4.7</td>\n",
       "      <td>74.9</td>\n",
       "      <td>0.477</td>\n",
       "      <td>28.7</td>\n",
       "      <td>good</td>\n",
       "      <td>0</td>\n",
       "      <td>low risk</td>\n",
       "      <td>0</td>\n",
       "      <td>0</td>\n",
       "      <td>0</td>\n",
       "      <td>0</td>\n",
       "      <td>1</td>\n",
       "    </tr>\n",
       "  </tbody>\n",
       "</table>\n",
       "<p>456 rows × 16 columns</p>\n",
       "</div>"
      ],
      "text/plain": [
       "       datetime  tempmax  tempmin  temp   dew  humidity  precip  windspeed  \\\n",
       "0    2019-01-01     16.0      7.6  11.5   5.1      66.2   0.000       11.1   \n",
       "1    2019-01-02     15.9      7.6  10.9   7.4      80.2   0.000       16.4   \n",
       "2    2019-01-03     10.3      4.5   7.4   6.1      91.7   0.005       12.6   \n",
       "3    2019-01-04     13.1      6.6   9.7   6.9      84.1   0.000       16.8   \n",
       "4    2019-01-05     14.8      7.8  10.5   5.5      71.4   0.000       14.9   \n",
       "..          ...      ...      ...   ...   ...       ...     ...        ...   \n",
       "451  2020-03-27     17.9     10.1  13.3   7.0      67.0   0.000       18.1   \n",
       "452  2020-03-28     17.2      9.9  13.5   5.9      60.9   0.000       23.9   \n",
       "453  2020-03-29     18.4     11.0  14.4   9.6      73.6   0.000       21.9   \n",
       "454  2020-03-30     13.5      9.1  12.3  10.8      90.7   8.742       28.7   \n",
       "455  2020-03-31     13.4      7.1   9.2   4.7      74.9   0.477       28.7   \n",
       "\n",
       "    pollen_intensity  admission number     risk level  Clear  \\\n",
       "0               good                 5      high risk      1   \n",
       "1               good                 3  moderate risk      1   \n",
       "2               good                 1       low risk      0   \n",
       "3               good                 5      high risk      1   \n",
       "4               good                 2  moderate risk      1   \n",
       "..               ...               ...            ...    ...   \n",
       "451             good                 0       low risk      0   \n",
       "452             good                 1       low risk      0   \n",
       "453             good                 0       low risk      0   \n",
       "454             good                 1       low risk      0   \n",
       "455             good                 0       low risk      0   \n",
       "\n",
       "     Partially cloudy  Rain  Rain, Overcast  Rain, Partially cloudy  \n",
       "0                   0     0               0                       0  \n",
       "1                   0     0               0                       0  \n",
       "2                   0     1               0                       0  \n",
       "3                   0     0               0                       0  \n",
       "4                   0     0               0                       0  \n",
       "..                ...   ...             ...                     ...  \n",
       "451                 1     0               0                       0  \n",
       "452                 1     0               0                       0  \n",
       "453                 1     0               0                       0  \n",
       "454                 0     0               0                       1  \n",
       "455                 0     0               0                       1  \n",
       "\n",
       "[456 rows x 16 columns]"
      ]
     },
     "execution_count": 8,
     "metadata": {},
     "output_type": "execute_result"
    }
   ],
   "source": [
    "# conditions\n",
    "# pollen_intensity\n",
    "\n",
    "# Get one hot encoding of columns conditions\n",
    "one_hot = pd.get_dummies(df['conditions'])\n",
    "# Drop column conditions as it is now encoded\n",
    "df = df.drop('conditions',axis = 1)\n",
    "# Join the encoded df\n",
    "df = df.join(one_hot)\n",
    "df"
   ]
  },
  {
   "cell_type": "code",
   "execution_count": 9,
   "id": "37789677",
   "metadata": {},
   "outputs": [
    {
     "data": {
      "text/plain": [
       "good              351\n",
       "muito elevados     56\n",
       "elevados           28\n",
       "baixos             21\n",
       "Name: pollen_intensity, dtype: int64"
      ]
     },
     "execution_count": 9,
     "metadata": {},
     "output_type": "execute_result"
    }
   ],
   "source": [
    "df['pollen_intensity'].value_counts()"
   ]
  },
  {
   "cell_type": "code",
   "execution_count": 10,
   "id": "37a6d3ae",
   "metadata": {},
   "outputs": [
    {
     "data": {
      "text/plain": [
       "1    351\n",
       "4     56\n",
       "3     28\n",
       "2     21\n",
       "Name: pollen_intensity, dtype: int64"
      ]
     },
     "execution_count": 10,
     "metadata": {},
     "output_type": "execute_result"
    }
   ],
   "source": [
    "for i in range(len(df['pollen_intensity'])):\n",
    "    if df.loc[i, 'pollen_intensity'] == 'good':\n",
    "        df.loc[i, 'pollen_intensity'] = 1\n",
    "    elif df.loc[i, 'pollen_intensity'] == 'baixos':\n",
    "        df.loc[i, 'pollen_intensity'] = 2\n",
    "    elif df.loc[i, 'pollen_intensity'] == 'elevados':\n",
    "        df.loc[i, 'pollen_intensity'] = 3\n",
    "    elif df.loc[i, 'pollen_intensity'] == 'muito elevados':\n",
    "        df.loc[i, 'pollen_intensity'] = 4\n",
    "df['pollen_intensity'].value_counts()"
   ]
  },
  {
   "cell_type": "code",
   "execution_count": 11,
   "id": "c4cf2f8b",
   "metadata": {},
   "outputs": [],
   "source": [
    "## Adding feature\n",
    "df['tem amplitude'] = df['tempmax'] - df['tempmin']\n",
    "df.drop(['tempmax', 'tempmin'], axis=1, inplace=True)"
   ]
  },
  {
   "cell_type": "code",
   "execution_count": 12,
   "id": "e3f4e3ce",
   "metadata": {},
   "outputs": [
    {
     "name": "stdout",
     "output_type": "stream",
     "text": [
      "datetime\n",
      "risk level\n"
     ]
    }
   ],
   "source": [
    "X = pd.DataFrame()\n",
    "for col in df.columns:\n",
    "    try:\n",
    "        df[col] = df[col].astype(float)\n",
    "        X[col] = df[col]\n",
    "    except:\n",
    "        print(col)\n",
    "X.drop(['admission number'], axis=1, inplace=True)\n",
    "# X"
   ]
  },
  {
   "cell_type": "markdown",
   "id": "675922d6",
   "metadata": {},
   "source": [
    "## Target"
   ]
  },
  {
   "cell_type": "code",
   "execution_count": 50,
   "id": "3b8a090c",
   "metadata": {},
   "outputs": [],
   "source": [
    "tempChange = []\n",
    "for i in range(len(X)):\n",
    "    try:\n",
    "#         print(X.loc[i, 'temp'] , X.loc[i-1, 'temp'],(X.loc[i, 'temp'] - X.loc[i-1, 'temp']))\n",
    "        tempChange.append((X.loc[i, 'temp'] - X.loc[i-1, 'temp']))\n",
    "#         break\n",
    "    except:\n",
    "        tempChange.append(0)\n",
    "        \n",
    "X['temp cahnge'] = tempChange\n",
    "\n",
    "# X[['tem amplitude', 'admission number', 'temp cahnge', 'temp', 'humidity']].corr()"
   ]
  },
  {
   "cell_type": "code",
   "execution_count": 52,
   "id": "107bbfb9",
   "metadata": {},
   "outputs": [],
   "source": [
    "# X.plot.scatter('temp cahnge', 'admission number')"
   ]
  },
  {
   "cell_type": "code",
   "execution_count": 53,
   "id": "d73adf4f",
   "metadata": {},
   "outputs": [],
   "source": [
    "tempChange2 = []\n",
    "for i in range(len(X)):\n",
    "    try:\n",
    "#         print(X.loc[i, 'temp'] , X.loc[i-1, 'temp'],(X.loc[i, 'temp'] - X.loc[i-1, 'temp']))\n",
    "        tempChange2.append((X.loc[i, 'temp'] - X.loc[i-2, 'temp']))\n",
    "#         break\n",
    "    except:\n",
    "        tempChange2.append(0)\n",
    "        \n",
    "X['temp cahnge2'] = tempChange2\n",
    "\n",
    "# X.plot.scatter('temp cahnge2', 'admission number')"
   ]
  },
  {
   "cell_type": "code",
   "execution_count": 54,
   "id": "ed9f26ac",
   "metadata": {},
   "outputs": [],
   "source": [
    "# high risk\n",
    "# moderate risk\n",
    "# low risk"
   ]
  },
  {
   "cell_type": "code",
   "execution_count": 17,
   "id": "3d9a9e73",
   "metadata": {},
   "outputs": [
    {
     "data": {
      "text/plain": [
       "Counter({3: 111, 2: 183, 1: 162})"
      ]
     },
     "execution_count": 17,
     "metadata": {},
     "output_type": "execute_result"
    }
   ],
   "source": [
    "y = [1 if risk=='low risk' else 2 if risk=='moderate risk' else 3 for risk in df['risk level']]\n",
    "Counter(y)\n",
    "# y = []\n",
    "# for risk in df['risk level']:"
   ]
  },
  {
   "cell_type": "code",
   "execution_count": 18,
   "id": "f7c03bed",
   "metadata": {},
   "outputs": [],
   "source": [
    "colors = np.array(['g', 'r', 'b', 'c', 'k', 'y','royalblue', 'maroon', 'forestgreen',\n",
    "                   'mediumorchid', 'tan', 'deeppink', 'olive', 'goldenrod', 'lightcyan', 'navy'])"
   ]
  },
  {
   "cell_type": "code",
   "execution_count": 19,
   "id": "772d4300",
   "metadata": {},
   "outputs": [],
   "source": [
    "scaler = MinMaxScaler()\n",
    "xcolumns = X.columns\n",
    "X = scaler.fit_transform(X)\n",
    "X = pd.DataFrame(X, columns=xcolumns)"
   ]
  },
  {
   "cell_type": "code",
   "execution_count": 20,
   "id": "d415b2b6",
   "metadata": {},
   "outputs": [],
   "source": [
    "########## PCA of visualization\n",
    "pca_model = PCA(n_components=2)\n",
    "X_PCA = pca_model.fit_transform(X)"
   ]
  },
  {
   "cell_type": "code",
   "execution_count": null,
   "id": "9f922476",
   "metadata": {},
   "outputs": [],
   "source": []
  },
  {
   "cell_type": "code",
   "execution_count": 22,
   "id": "509ffaa7",
   "metadata": {},
   "outputs": [
    {
     "name": "stdout",
     "output_type": "stream",
     "text": [
      "NumbOfcluster:  2   Kmeans silhouette  0.43096703337722425\n",
      "NumbOfcluster:  3   Kmeans silhouette  0.5095501133057021\n",
      "NumbOfcluster:  4   Kmeans silhouette  0.5565589208202385\n",
      "NumbOfcluster:  5   Kmeans silhouette  0.5138865081074956\n",
      "NumbOfcluster:  6   Kmeans silhouette  0.4866488199608114\n",
      "NumbOfcluster:  7   Kmeans silhouette  0.43658038414809186\n",
      "NumbOfcluster:  8   Kmeans silhouette  0.40954901780467845\n",
      "NumbOfcluster:  9   Kmeans silhouette  0.4010966887016666\n",
      "NumbOfcluster:  10   Kmeans silhouette  0.33717372469732276\n",
      "NumbOfcluster:  11   Kmeans silhouette  0.3188405901442105\n",
      "NumbOfcluster:  12   Kmeans silhouette  0.31708436738597046\n",
      "NumbOfcluster:  13   Kmeans silhouette  0.2877648014927694\n",
      "NumbOfcluster:  14   Kmeans silhouette  0.29576901143248774\n",
      "NumbOfcluster:  15   Kmeans silhouette  0.27906778491448614\n",
      "NumbOfcluster:  16   Kmeans silhouette  0.27777327799762985\n",
      "NumbOfcluster:  17   Kmeans silhouette  0.26538587177781425\n",
      "NumbOfcluster:  18   Kmeans silhouette  0.25718555861677656\n",
      "NumbOfcluster:  19   Kmeans silhouette  0.24192154606264477\n"
     ]
    }
   ],
   "source": [
    "\n",
    "#### kmeans algorithm\n",
    "### Choosing best Num cluster for KMeans\n",
    "for NumbOfcluster in range(2, 20):\n",
    "    kmean = KMeans(n_clusters=NumbOfcluster)\n",
    "    kmean.fit(X)\n",
    "    labels = kmean.labels_\n",
    "    KMeans_Sil = metrics.silhouette_score(X, kmean.labels_, metric='euclidean')\n",
    "    print('NumbOfcluster: ',NumbOfcluster , '  Kmeans silhouette ',KMeans_Sil)"
   ]
  },
  {
   "cell_type": "code",
   "execution_count": 23,
   "id": "78d935dd",
   "metadata": {},
   "outputs": [
    {
     "data": {
      "text/html": [
       "<style>#sk-container-id-1 {color: black;background-color: white;}#sk-container-id-1 pre{padding: 0;}#sk-container-id-1 div.sk-toggleable {background-color: white;}#sk-container-id-1 label.sk-toggleable__label {cursor: pointer;display: block;width: 100%;margin-bottom: 0;padding: 0.3em;box-sizing: border-box;text-align: center;}#sk-container-id-1 label.sk-toggleable__label-arrow:before {content: \"▸\";float: left;margin-right: 0.25em;color: #696969;}#sk-container-id-1 label.sk-toggleable__label-arrow:hover:before {color: black;}#sk-container-id-1 div.sk-estimator:hover label.sk-toggleable__label-arrow:before {color: black;}#sk-container-id-1 div.sk-toggleable__content {max-height: 0;max-width: 0;overflow: hidden;text-align: left;background-color: #f0f8ff;}#sk-container-id-1 div.sk-toggleable__content pre {margin: 0.2em;color: black;border-radius: 0.25em;background-color: #f0f8ff;}#sk-container-id-1 input.sk-toggleable__control:checked~div.sk-toggleable__content {max-height: 200px;max-width: 100%;overflow: auto;}#sk-container-id-1 input.sk-toggleable__control:checked~label.sk-toggleable__label-arrow:before {content: \"▾\";}#sk-container-id-1 div.sk-estimator input.sk-toggleable__control:checked~label.sk-toggleable__label {background-color: #d4ebff;}#sk-container-id-1 div.sk-label input.sk-toggleable__control:checked~label.sk-toggleable__label {background-color: #d4ebff;}#sk-container-id-1 input.sk-hidden--visually {border: 0;clip: rect(1px 1px 1px 1px);clip: rect(1px, 1px, 1px, 1px);height: 1px;margin: -1px;overflow: hidden;padding: 0;position: absolute;width: 1px;}#sk-container-id-1 div.sk-estimator {font-family: monospace;background-color: #f0f8ff;border: 1px dotted black;border-radius: 0.25em;box-sizing: border-box;margin-bottom: 0.5em;}#sk-container-id-1 div.sk-estimator:hover {background-color: #d4ebff;}#sk-container-id-1 div.sk-parallel-item::after {content: \"\";width: 100%;border-bottom: 1px solid gray;flex-grow: 1;}#sk-container-id-1 div.sk-label:hover label.sk-toggleable__label {background-color: #d4ebff;}#sk-container-id-1 div.sk-serial::before {content: \"\";position: absolute;border-left: 1px solid gray;box-sizing: border-box;top: 0;bottom: 0;left: 50%;z-index: 0;}#sk-container-id-1 div.sk-serial {display: flex;flex-direction: column;align-items: center;background-color: white;padding-right: 0.2em;padding-left: 0.2em;position: relative;}#sk-container-id-1 div.sk-item {position: relative;z-index: 1;}#sk-container-id-1 div.sk-parallel {display: flex;align-items: stretch;justify-content: center;background-color: white;position: relative;}#sk-container-id-1 div.sk-item::before, #sk-container-id-1 div.sk-parallel-item::before {content: \"\";position: absolute;border-left: 1px solid gray;box-sizing: border-box;top: 0;bottom: 0;left: 50%;z-index: -1;}#sk-container-id-1 div.sk-parallel-item {display: flex;flex-direction: column;z-index: 1;position: relative;background-color: white;}#sk-container-id-1 div.sk-parallel-item:first-child::after {align-self: flex-end;width: 50%;}#sk-container-id-1 div.sk-parallel-item:last-child::after {align-self: flex-start;width: 50%;}#sk-container-id-1 div.sk-parallel-item:only-child::after {width: 0;}#sk-container-id-1 div.sk-dashed-wrapped {border: 1px dashed gray;margin: 0 0.4em 0.5em 0.4em;box-sizing: border-box;padding-bottom: 0.4em;background-color: white;}#sk-container-id-1 div.sk-label label {font-family: monospace;font-weight: bold;display: inline-block;line-height: 1.2em;}#sk-container-id-1 div.sk-label-container {text-align: center;}#sk-container-id-1 div.sk-container {/* jupyter's `normalize.less` sets `[hidden] { display: none; }` but bootstrap.min.css set `[hidden] { display: none !important; }` so we also need the `!important` here to be able to override the default hidden behavior on the sphinx rendered scikit-learn.org. See: https://github.com/scikit-learn/scikit-learn/issues/21755 */display: inline-block !important;position: relative;}#sk-container-id-1 div.sk-text-repr-fallback {display: none;}</style><div id=\"sk-container-id-1\" class=\"sk-top-container\"><div class=\"sk-text-repr-fallback\"><pre>KMeans(max_iter=200, n_clusters=10)</pre><b>In a Jupyter environment, please rerun this cell to show the HTML representation or trust the notebook. <br />On GitHub, the HTML representation is unable to render, please try loading this page with nbviewer.org.</b></div><div class=\"sk-container\" hidden><div class=\"sk-item\"><div class=\"sk-estimator sk-toggleable\"><input class=\"sk-toggleable__control sk-hidden--visually\" id=\"sk-estimator-id-1\" type=\"checkbox\" checked><label for=\"sk-estimator-id-1\" class=\"sk-toggleable__label sk-toggleable__label-arrow\">KMeans</label><div class=\"sk-toggleable__content\"><pre>KMeans(max_iter=200, n_clusters=10)</pre></div></div></div></div></div>"
      ],
      "text/plain": [
       "KMeans(max_iter=200, n_clusters=10)"
      ]
     },
     "execution_count": 23,
     "metadata": {},
     "output_type": "execute_result"
    }
   ],
   "source": [
    "\n",
    "#### kmeans algorithm\n",
    "# start = time.time()\n",
    "kmean = KMeans(n_clusters=10, max_iter=200)\n",
    "kmean.fit(X)\n",
    "# end = time.time()\n",
    "# print(Fore.BLUE + \"k-mean algorithm time is :\", end - start)\n",
    "# print(Fore.RESET)"
   ]
  },
  {
   "cell_type": "code",
   "execution_count": 24,
   "id": "6107c076",
   "metadata": {},
   "outputs": [
    {
     "data": {
      "text/plain": [
       "<matplotlib.collections.PathCollection at 0x7f2d583f1eb0>"
      ]
     },
     "execution_count": 24,
     "metadata": {},
     "output_type": "execute_result"
    },
    {
     "data": {
      "image/png": "[encoded data removed]",
      "text/plain": [
       "<Figure size 1600x800 with 2 Axes>"
      ]
     },
     "metadata": {},
     "output_type": "display_data"
    }
   ],
   "source": [
    "\n",
    "fig = plt.figure(figsize=(16, 8))\n",
    "ax = fig.add_subplot(121)\n",
    "ax.scatter(X_PCA[:, 0], X_PCA[:, 1],c='green', marker='o', s=10)\n",
    "ax = fig.add_subplot(122)\n",
    "ax.scatter(X_PCA[:, 0], X_PCA[:, 1], c=colors[kmean.labels_], marker='*')"
   ]
  },
  {
   "cell_type": "code",
   "execution_count": 26,
   "id": "9236ff8b",
   "metadata": {},
   "outputs": [
    {
     "name": "stdout",
     "output_type": "stream",
     "text": [
      "NumbOfcluster:  2  Birch silhouette  0.24192154606264477\n",
      "NumbOfcluster:  3  Birch silhouette  0.24192154606264477\n",
      "NumbOfcluster:  4  Birch silhouette  0.24192154606264477\n",
      "NumbOfcluster:  5  Birch silhouette  0.24192154606264477\n",
      "NumbOfcluster:  6  Birch silhouette  0.24192154606264477\n",
      "NumbOfcluster:  7  Birch silhouette  0.24192154606264477\n",
      "NumbOfcluster:  8  Birch silhouette  0.24192154606264477\n",
      "NumbOfcluster:  9  Birch silhouette  0.24192154606264477\n",
      "NumbOfcluster:  10  Birch silhouette  0.24192154606264477\n",
      "NumbOfcluster:  11  Birch silhouette  0.24192154606264477\n",
      "NumbOfcluster:  12  Birch silhouette  0.24192154606264477\n",
      "NumbOfcluster:  13  Birch silhouette  0.24192154606264477\n",
      "NumbOfcluster:  14  Birch silhouette  0.24192154606264477\n",
      "NumbOfcluster:  15  Birch silhouette  0.24192154606264477\n",
      "NumbOfcluster:  16  Birch silhouette  0.24192154606264477\n"
     ]
    },
    {
     "name": "stderr",
     "output_type": "stream",
     "text": [
      "/home/amin/.local/lib/python3.8/site-packages/sklearn/cluster/_birch.py:752: ConvergenceWarning: Number of subclusters found (10) by BIRCH is less than (11). Decrease the threshold.\n",
      "  warnings.warn(\n",
      "/home/amin/.local/lib/python3.8/site-packages/sklearn/cluster/_birch.py:752: ConvergenceWarning: Number of subclusters found (10) by BIRCH is less than (12). Decrease the threshold.\n",
      "  warnings.warn(\n",
      "/home/amin/.local/lib/python3.8/site-packages/sklearn/cluster/_birch.py:752: ConvergenceWarning: Number of subclusters found (10) by BIRCH is less than (13). Decrease the threshold.\n",
      "  warnings.warn(\n",
      "/home/amin/.local/lib/python3.8/site-packages/sklearn/cluster/_birch.py:752: ConvergenceWarning: Number of subclusters found (10) by BIRCH is less than (14). Decrease the threshold.\n",
      "  warnings.warn(\n",
      "/home/amin/.local/lib/python3.8/site-packages/sklearn/cluster/_birch.py:752: ConvergenceWarning: Number of subclusters found (10) by BIRCH is less than (15). Decrease the threshold.\n",
      "  warnings.warn(\n",
      "/home/amin/.local/lib/python3.8/site-packages/sklearn/cluster/_birch.py:752: ConvergenceWarning: Number of subclusters found (10) by BIRCH is less than (16). Decrease the threshold.\n",
      "  warnings.warn(\n",
      "/home/amin/.local/lib/python3.8/site-packages/sklearn/cluster/_birch.py:752: ConvergenceWarning: Number of subclusters found (10) by BIRCH is less than (17). Decrease the threshold.\n",
      "  warnings.warn(\n",
      "/home/amin/.local/lib/python3.8/site-packages/sklearn/cluster/_birch.py:752: ConvergenceWarning: Number of subclusters found (10) by BIRCH is less than (18). Decrease the threshold.\n",
      "  warnings.warn(\n"
     ]
    },
    {
     "name": "stdout",
     "output_type": "stream",
     "text": [
      "NumbOfcluster:  17  Birch silhouette  0.24192154606264477\n",
      "NumbOfcluster:  18  Birch silhouette  0.24192154606264477\n",
      "NumbOfcluster:  19  Birch silhouette  0.24192154606264477\n",
      "NumbOfcluster:  20  Birch silhouette  0.24192154606264477\n",
      "NumbOfcluster:  21  Birch silhouette  0.24192154606264477\n",
      "NumbOfcluster:  22  Birch silhouette  0.24192154606264477\n"
     ]
    },
    {
     "name": "stderr",
     "output_type": "stream",
     "text": [
      "/home/amin/.local/lib/python3.8/site-packages/sklearn/cluster/_birch.py:752: ConvergenceWarning: Number of subclusters found (10) by BIRCH is less than (19). Decrease the threshold.\n",
      "  warnings.warn(\n",
      "/home/amin/.local/lib/python3.8/site-packages/sklearn/cluster/_birch.py:752: ConvergenceWarning: Number of subclusters found (10) by BIRCH is less than (20). Decrease the threshold.\n",
      "  warnings.warn(\n",
      "/home/amin/.local/lib/python3.8/site-packages/sklearn/cluster/_birch.py:752: ConvergenceWarning: Number of subclusters found (10) by BIRCH is less than (21). Decrease the threshold.\n",
      "  warnings.warn(\n",
      "/home/amin/.local/lib/python3.8/site-packages/sklearn/cluster/_birch.py:752: ConvergenceWarning: Number of subclusters found (10) by BIRCH is less than (22). Decrease the threshold.\n",
      "  warnings.warn(\n",
      "/home/amin/.local/lib/python3.8/site-packages/sklearn/cluster/_birch.py:752: ConvergenceWarning: Number of subclusters found (10) by BIRCH is less than (23). Decrease the threshold.\n",
      "  warnings.warn(\n",
      "/home/amin/.local/lib/python3.8/site-packages/sklearn/cluster/_birch.py:752: ConvergenceWarning: Number of subclusters found (10) by BIRCH is less than (24). Decrease the threshold.\n",
      "  warnings.warn(\n"
     ]
    },
    {
     "name": "stdout",
     "output_type": "stream",
     "text": [
      "NumbOfcluster:  23  Birch silhouette  0.24192154606264477\n",
      "NumbOfcluster:  24  Birch silhouette  0.24192154606264477\n"
     ]
    }
   ],
   "source": [
    "\n",
    "#### Birch algorithm\n",
    "### Choosing best Num cluster for Birch\n",
    "for NumbOfcluster in range(2, 25):\n",
    "    birch = Birch(n_clusters=NumbOfcluster)\n",
    "    birch.fit(X)\n",
    "    labels = birch.labels_\n",
    "    \n",
    "    birch_Sil = metrics.silhouette_score(X, birch.labels_, metric='euclidean')\n",
    "    print('NumbOfcluster: ',NumbOfcluster ,' Birch silhouette ',KMeans_Sil)"
   ]
  },
  {
   "cell_type": "code",
   "execution_count": 28,
   "id": "179388a1",
   "metadata": {},
   "outputs": [
    {
     "data": {
      "text/html": [
       "<style>#sk-container-id-2 {color: black;background-color: white;}#sk-container-id-2 pre{padding: 0;}#sk-container-id-2 div.sk-toggleable {background-color: white;}#sk-container-id-2 label.sk-toggleable__label {cursor: pointer;display: block;width: 100%;margin-bottom: 0;padding: 0.3em;box-sizing: border-box;text-align: center;}#sk-container-id-2 label.sk-toggleable__label-arrow:before {content: \"▸\";float: left;margin-right: 0.25em;color: #696969;}#sk-container-id-2 label.sk-toggleable__label-arrow:hover:before {color: black;}#sk-container-id-2 div.sk-estimator:hover label.sk-toggleable__label-arrow:before {color: black;}#sk-container-id-2 div.sk-toggleable__content {max-height: 0;max-width: 0;overflow: hidden;text-align: left;background-color: #f0f8ff;}#sk-container-id-2 div.sk-toggleable__content pre {margin: 0.2em;color: black;border-radius: 0.25em;background-color: #f0f8ff;}#sk-container-id-2 input.sk-toggleable__control:checked~div.sk-toggleable__content {max-height: 200px;max-width: 100%;overflow: auto;}#sk-container-id-2 input.sk-toggleable__control:checked~label.sk-toggleable__label-arrow:before {content: \"▾\";}#sk-container-id-2 div.sk-estimator input.sk-toggleable__control:checked~label.sk-toggleable__label {background-color: #d4ebff;}#sk-container-id-2 div.sk-label input.sk-toggleable__control:checked~label.sk-toggleable__label {background-color: #d4ebff;}#sk-container-id-2 input.sk-hidden--visually {border: 0;clip: rect(1px 1px 1px 1px);clip: rect(1px, 1px, 1px, 1px);height: 1px;margin: -1px;overflow: hidden;padding: 0;position: absolute;width: 1px;}#sk-container-id-2 div.sk-estimator {font-family: monospace;background-color: #f0f8ff;border: 1px dotted black;border-radius: 0.25em;box-sizing: border-box;margin-bottom: 0.5em;}#sk-container-id-2 div.sk-estimator:hover {background-color: #d4ebff;}#sk-container-id-2 div.sk-parallel-item::after {content: \"\";width: 100%;border-bottom: 1px solid gray;flex-grow: 1;}#sk-container-id-2 div.sk-label:hover label.sk-toggleable__label {background-color: #d4ebff;}#sk-container-id-2 div.sk-serial::before {content: \"\";position: absolute;border-left: 1px solid gray;box-sizing: border-box;top: 0;bottom: 0;left: 50%;z-index: 0;}#sk-container-id-2 div.sk-serial {display: flex;flex-direction: column;align-items: center;background-color: white;padding-right: 0.2em;padding-left: 0.2em;position: relative;}#sk-container-id-2 div.sk-item {position: relative;z-index: 1;}#sk-container-id-2 div.sk-parallel {display: flex;align-items: stretch;justify-content: center;background-color: white;position: relative;}#sk-container-id-2 div.sk-item::before, #sk-container-id-2 div.sk-parallel-item::before {content: \"\";position: absolute;border-left: 1px solid gray;box-sizing: border-box;top: 0;bottom: 0;left: 50%;z-index: -1;}#sk-container-id-2 div.sk-parallel-item {display: flex;flex-direction: column;z-index: 1;position: relative;background-color: white;}#sk-container-id-2 div.sk-parallel-item:first-child::after {align-self: flex-end;width: 50%;}#sk-container-id-2 div.sk-parallel-item:last-child::after {align-self: flex-start;width: 50%;}#sk-container-id-2 div.sk-parallel-item:only-child::after {width: 0;}#sk-container-id-2 div.sk-dashed-wrapped {border: 1px dashed gray;margin: 0 0.4em 0.5em 0.4em;box-sizing: border-box;padding-bottom: 0.4em;background-color: white;}#sk-container-id-2 div.sk-label label {font-family: monospace;font-weight: bold;display: inline-block;line-height: 1.2em;}#sk-container-id-2 div.sk-label-container {text-align: center;}#sk-container-id-2 div.sk-container {/* jupyter's `normalize.less` sets `[hidden] { display: none; }` but bootstrap.min.css set `[hidden] { display: none !important; }` so we also need the `!important` here to be able to override the default hidden behavior on the sphinx rendered scikit-learn.org. See: https://github.com/scikit-learn/scikit-learn/issues/21755 */display: inline-block !important;position: relative;}#sk-container-id-2 div.sk-text-repr-fallback {display: none;}</style><div id=\"sk-container-id-2\" class=\"sk-top-container\"><div class=\"sk-text-repr-fallback\"><pre>Birch(n_clusters=10)</pre><b>In a Jupyter environment, please rerun this cell to show the HTML representation or trust the notebook. <br />On GitHub, the HTML representation is unable to render, please try loading this page with nbviewer.org.</b></div><div class=\"sk-container\" hidden><div class=\"sk-item\"><div class=\"sk-estimator sk-toggleable\"><input class=\"sk-toggleable__control sk-hidden--visually\" id=\"sk-estimator-id-2\" type=\"checkbox\" checked><label for=\"sk-estimator-id-2\" class=\"sk-toggleable__label sk-toggleable__label-arrow\">Birch</label><div class=\"sk-toggleable__content\"><pre>Birch(n_clusters=10)</pre></div></div></div></div></div>"
      ],
      "text/plain": [
       "Birch(n_clusters=10)"
      ]
     },
     "execution_count": 28,
     "metadata": {},
     "output_type": "execute_result"
    }
   ],
   "source": [
    "\n",
    "#### kmeans algorithm\n",
    "# start = time.time()\n",
    "birch = Birch(n_clusters=10)\n",
    "birch.fit(X)\n",
    "# end = time.time()\n",
    "# print(Fore.BLUE + \"k-mean algorithm time is :\", end - start)\n",
    "# print(Fore.RESET)"
   ]
  },
  {
   "cell_type": "code",
   "execution_count": 29,
   "id": "2b4a3cf5",
   "metadata": {},
   "outputs": [
    {
     "data": {
      "text/plain": [
       "<matplotlib.collections.PathCollection at 0x7f2d5827ef40>"
      ]
     },
     "execution_count": 29,
     "metadata": {},
     "output_type": "execute_result"
    },
    {
     "data": {
      "image/png": "[encoded data removed]",
      "text/plain": [
       "<Figure size 1600x800 with 2 Axes>"
      ]
     },
     "metadata": {},
     "output_type": "display_data"
    }
   ],
   "source": [
    "fig = plt.figure(figsize=(16, 8))\n",
    "ax = fig.add_subplot(121)\n",
    "ax.scatter(X_PCA[:, 0], X_PCA[:, 1],c='green', marker='o', s=10)\n",
    "ax = fig.add_subplot(122)\n",
    "ax.scatter(X_PCA[:, 0], X_PCA[:, 1], c=colors[birch.labels_], marker='*')"
   ]
  },
  {
   "cell_type": "code",
   "execution_count": 30,
   "id": "799753d0",
   "metadata": {},
   "outputs": [],
   "source": [
    "# X.describe()"
   ]
  },
  {
   "cell_type": "code",
   "execution_count": 31,
   "id": "aea93eb9",
   "metadata": {},
   "outputs": [
    {
     "data": {
      "text/html": [
       "<div>\n",
       "<style scoped>\n",
       "    .dataframe tbody tr th:only-of-type {\n",
       "        vertical-align: middle;\n",
       "    }\n",
       "\n",
       "    .dataframe tbody tr th {\n",
       "        vertical-align: top;\n",
       "    }\n",
       "\n",
       "    .dataframe thead th {\n",
       "        text-align: right;\n",
       "    }\n",
       "</style>\n",
       "<table border=\"1\" class=\"dataframe\">\n",
       "  <thead>\n",
       "    <tr style=\"text-align: right;\">\n",
       "      <th></th>\n",
       "      <th>temp</th>\n",
       "      <th>dew</th>\n",
       "      <th>humidity</th>\n",
       "      <th>precip</th>\n",
       "      <th>windspeed</th>\n",
       "      <th>pollen_intensity</th>\n",
       "      <th>Clear</th>\n",
       "      <th>Partially cloudy</th>\n",
       "      <th>Rain</th>\n",
       "      <th>Rain, Overcast</th>\n",
       "      <th>Rain, Partially cloudy</th>\n",
       "      <th>tem amplitude</th>\n",
       "      <th>temp cahnge</th>\n",
       "      <th>temp cahnge2</th>\n",
       "    </tr>\n",
       "  </thead>\n",
       "  <tbody>\n",
       "    <tr>\n",
       "      <th>0</th>\n",
       "      <td>0.193396</td>\n",
       "      <td>0.342975</td>\n",
       "      <td>0.559840</td>\n",
       "      <td>0.000000</td>\n",
       "      <td>0.057087</td>\n",
       "      <td>0.0</td>\n",
       "      <td>1.0</td>\n",
       "      <td>0.0</td>\n",
       "      <td>0.0</td>\n",
       "      <td>0.0</td>\n",
       "      <td>0.0</td>\n",
       "      <td>0.548387</td>\n",
       "      <td>0.500000</td>\n",
       "      <td>0.500000</td>\n",
       "    </tr>\n",
       "    <tr>\n",
       "      <th>1</th>\n",
       "      <td>0.165094</td>\n",
       "      <td>0.438017</td>\n",
       "      <td>0.746011</td>\n",
       "      <td>0.000000</td>\n",
       "      <td>0.161417</td>\n",
       "      <td>0.0</td>\n",
       "      <td>1.0</td>\n",
       "      <td>0.0</td>\n",
       "      <td>0.0</td>\n",
       "      <td>0.0</td>\n",
       "      <td>0.0</td>\n",
       "      <td>0.540323</td>\n",
       "      <td>0.450820</td>\n",
       "      <td>0.500000</td>\n",
       "    </tr>\n",
       "    <tr>\n",
       "      <th>2</th>\n",
       "      <td>0.000000</td>\n",
       "      <td>0.384298</td>\n",
       "      <td>0.898936</td>\n",
       "      <td>0.000126</td>\n",
       "      <td>0.086614</td>\n",
       "      <td>0.0</td>\n",
       "      <td>0.0</td>\n",
       "      <td>0.0</td>\n",
       "      <td>1.0</td>\n",
       "      <td>0.0</td>\n",
       "      <td>0.0</td>\n",
       "      <td>0.338710</td>\n",
       "      <td>0.213115</td>\n",
       "      <td>0.255952</td>\n",
       "    </tr>\n",
       "    <tr>\n",
       "      <th>3</th>\n",
       "      <td>0.108491</td>\n",
       "      <td>0.417355</td>\n",
       "      <td>0.797872</td>\n",
       "      <td>0.000000</td>\n",
       "      <td>0.169291</td>\n",
       "      <td>0.0</td>\n",
       "      <td>1.0</td>\n",
       "      <td>0.0</td>\n",
       "      <td>0.0</td>\n",
       "      <td>0.0</td>\n",
       "      <td>0.0</td>\n",
       "      <td>0.395161</td>\n",
       "      <td>0.688525</td>\n",
       "      <td>0.428571</td>\n",
       "    </tr>\n",
       "    <tr>\n",
       "      <th>4</th>\n",
       "      <td>0.146226</td>\n",
       "      <td>0.359504</td>\n",
       "      <td>0.628989</td>\n",
       "      <td>0.000000</td>\n",
       "      <td>0.131890</td>\n",
       "      <td>0.0</td>\n",
       "      <td>1.0</td>\n",
       "      <td>0.0</td>\n",
       "      <td>0.0</td>\n",
       "      <td>0.0</td>\n",
       "      <td>0.0</td>\n",
       "      <td>0.435484</td>\n",
       "      <td>0.565574</td>\n",
       "      <td>0.684524</td>\n",
       "    </tr>\n",
       "    <tr>\n",
       "      <th>...</th>\n",
       "      <td>...</td>\n",
       "      <td>...</td>\n",
       "      <td>...</td>\n",
       "      <td>...</td>\n",
       "      <td>...</td>\n",
       "      <td>...</td>\n",
       "      <td>...</td>\n",
       "      <td>...</td>\n",
       "      <td>...</td>\n",
       "      <td>...</td>\n",
       "      <td>...</td>\n",
       "      <td>...</td>\n",
       "      <td>...</td>\n",
       "      <td>...</td>\n",
       "    </tr>\n",
       "    <tr>\n",
       "      <th>451</th>\n",
       "      <td>0.278302</td>\n",
       "      <td>0.421488</td>\n",
       "      <td>0.570479</td>\n",
       "      <td>0.000000</td>\n",
       "      <td>0.194882</td>\n",
       "      <td>0.0</td>\n",
       "      <td>0.0</td>\n",
       "      <td>1.0</td>\n",
       "      <td>0.0</td>\n",
       "      <td>0.0</td>\n",
       "      <td>0.0</td>\n",
       "      <td>0.500000</td>\n",
       "      <td>0.450820</td>\n",
       "      <td>0.333333</td>\n",
       "    </tr>\n",
       "    <tr>\n",
       "      <th>452</th>\n",
       "      <td>0.287736</td>\n",
       "      <td>0.376033</td>\n",
       "      <td>0.489362</td>\n",
       "      <td>0.000000</td>\n",
       "      <td>0.309055</td>\n",
       "      <td>0.0</td>\n",
       "      <td>0.0</td>\n",
       "      <td>1.0</td>\n",
       "      <td>0.0</td>\n",
       "      <td>0.0</td>\n",
       "      <td>0.0</td>\n",
       "      <td>0.459677</td>\n",
       "      <td>0.516393</td>\n",
       "      <td>0.476190</td>\n",
       "    </tr>\n",
       "    <tr>\n",
       "      <th>453</th>\n",
       "      <td>0.330189</td>\n",
       "      <td>0.528926</td>\n",
       "      <td>0.658245</td>\n",
       "      <td>0.000000</td>\n",
       "      <td>0.269685</td>\n",
       "      <td>0.0</td>\n",
       "      <td>0.0</td>\n",
       "      <td>1.0</td>\n",
       "      <td>0.0</td>\n",
       "      <td>0.0</td>\n",
       "      <td>0.0</td>\n",
       "      <td>0.467742</td>\n",
       "      <td>0.573770</td>\n",
       "      <td>0.565476</td>\n",
       "    </tr>\n",
       "    <tr>\n",
       "      <th>454</th>\n",
       "      <td>0.231132</td>\n",
       "      <td>0.578512</td>\n",
       "      <td>0.885638</td>\n",
       "      <td>0.219925</td>\n",
       "      <td>0.403543</td>\n",
       "      <td>0.0</td>\n",
       "      <td>0.0</td>\n",
       "      <td>0.0</td>\n",
       "      <td>0.0</td>\n",
       "      <td>0.0</td>\n",
       "      <td>1.0</td>\n",
       "      <td>0.225806</td>\n",
       "      <td>0.327869</td>\n",
       "      <td>0.428571</td>\n",
       "    </tr>\n",
       "    <tr>\n",
       "      <th>455</th>\n",
       "      <td>0.084906</td>\n",
       "      <td>0.326446</td>\n",
       "      <td>0.675532</td>\n",
       "      <td>0.012000</td>\n",
       "      <td>0.403543</td>\n",
       "      <td>0.0</td>\n",
       "      <td>0.0</td>\n",
       "      <td>0.0</td>\n",
       "      <td>0.0</td>\n",
       "      <td>0.0</td>\n",
       "      <td>1.0</td>\n",
       "      <td>0.379032</td>\n",
       "      <td>0.245902</td>\n",
       "      <td>0.190476</td>\n",
       "    </tr>\n",
       "  </tbody>\n",
       "</table>\n",
       "<p>456 rows × 14 columns</p>\n",
       "</div>"
      ],
      "text/plain": [
       "         temp       dew  humidity    precip  windspeed  pollen_intensity  \\\n",
       "0    0.193396  0.342975  0.559840  0.000000   0.057087               0.0   \n",
       "1    0.165094  0.438017  0.746011  0.000000   0.161417               0.0   \n",
       "2    0.000000  0.384298  0.898936  0.000126   0.086614               0.0   \n",
       "3    0.108491  0.417355  0.797872  0.000000   0.169291               0.0   \n",
       "4    0.146226  0.359504  0.628989  0.000000   0.131890               0.0   \n",
       "..        ...       ...       ...       ...        ...               ...   \n",
       "451  0.278302  0.421488  0.570479  0.000000   0.194882               0.0   \n",
       "452  0.287736  0.376033  0.489362  0.000000   0.309055               0.0   \n",
       "453  0.330189  0.528926  0.658245  0.000000   0.269685               0.0   \n",
       "454  0.231132  0.578512  0.885638  0.219925   0.403543               0.0   \n",
       "455  0.084906  0.326446  0.675532  0.012000   0.403543               0.0   \n",
       "\n",
       "     Clear  Partially cloudy  Rain  Rain, Overcast  Rain, Partially cloudy  \\\n",
       "0      1.0               0.0   0.0             0.0                     0.0   \n",
       "1      1.0               0.0   0.0             0.0                     0.0   \n",
       "2      0.0               0.0   1.0             0.0                     0.0   \n",
       "3      1.0               0.0   0.0             0.0                     0.0   \n",
       "4      1.0               0.0   0.0             0.0                     0.0   \n",
       "..     ...               ...   ...             ...                     ...   \n",
       "451    0.0               1.0   0.0             0.0                     0.0   \n",
       "452    0.0               1.0   0.0             0.0                     0.0   \n",
       "453    0.0               1.0   0.0             0.0                     0.0   \n",
       "454    0.0               0.0   0.0             0.0                     1.0   \n",
       "455    0.0               0.0   0.0             0.0                     1.0   \n",
       "\n",
       "     tem amplitude  temp cahnge  temp cahnge2  \n",
       "0         0.548387     0.500000      0.500000  \n",
       "1         0.540323     0.450820      0.500000  \n",
       "2         0.338710     0.213115      0.255952  \n",
       "3         0.395161     0.688525      0.428571  \n",
       "4         0.435484     0.565574      0.684524  \n",
       "..             ...          ...           ...  \n",
       "451       0.500000     0.450820      0.333333  \n",
       "452       0.459677     0.516393      0.476190  \n",
       "453       0.467742     0.573770      0.565476  \n",
       "454       0.225806     0.327869      0.428571  \n",
       "455       0.379032     0.245902      0.190476  \n",
       "\n",
       "[456 rows x 14 columns]"
      ]
     },
     "execution_count": 31,
     "metadata": {},
     "output_type": "execute_result"
    }
   ],
   "source": [
    "X"
   ]
  },
  {
   "cell_type": "code",
   "execution_count": 32,
   "id": "b9eac6b8",
   "metadata": {},
   "outputs": [
    {
     "data": {
      "text/plain": [
       "Counter({0: 245, 1: 133, -1: 2, 2: 42, 3: 34})"
      ]
     },
     "execution_count": 32,
     "metadata": {},
     "output_type": "execute_result"
    }
   ],
   "source": [
    "\n",
    "#### kmeans algorithm\n",
    "# start = time.time()\n",
    "dbscan = DBSCAN(eps=.6, min_samples=4)\n",
    "dbscan.fit(X)\n",
    "# end = time.time()\n",
    "# print(Fore.BLUE + \"k-mean algorithm time is :\", end - start)\n",
    "# print(Fore.RESET)\n",
    "Counter(dbscan.labels_)"
   ]
  },
  {
   "cell_type": "code",
   "execution_count": 33,
   "id": "50ef52c3",
   "metadata": {},
   "outputs": [
    {
     "data": {
      "text/plain": [
       "<matplotlib.collections.PathCollection at 0x7f2d58185a30>"
      ]
     },
     "execution_count": 33,
     "metadata": {},
     "output_type": "execute_result"
    },
    {
     "data": {
      "image/png": "[encoded data removed]",
      "text/plain": [
       "<Figure size 1600x800 with 2 Axes>"
      ]
     },
     "metadata": {},
     "output_type": "display_data"
    }
   ],
   "source": [
    "fig = plt.figure(figsize=(16, 8))\n",
    "ax = fig.add_subplot(121)\n",
    "ax.scatter(X_PCA[:, 0], X_PCA[:, 1],c='green', marker='o', s=10)\n",
    "ax = fig.add_subplot(122)\n",
    "ax.scatter(X_PCA[:, 0], X_PCA[:, 1], c=colors[dbscan.labels_], marker='*')"
   ]
  },
  {
   "cell_type": "code",
   "execution_count": 34,
   "id": "b58cb83c",
   "metadata": {},
   "outputs": [
    {
     "data": {
      "text/html": [
       "<div>\n",
       "<style scoped>\n",
       "    .dataframe tbody tr th:only-of-type {\n",
       "        vertical-align: middle;\n",
       "    }\n",
       "\n",
       "    .dataframe tbody tr th {\n",
       "        vertical-align: top;\n",
       "    }\n",
       "\n",
       "    .dataframe thead th {\n",
       "        text-align: right;\n",
       "    }\n",
       "</style>\n",
       "<table border=\"1\" class=\"dataframe\">\n",
       "  <thead>\n",
       "    <tr style=\"text-align: right;\">\n",
       "      <th></th>\n",
       "      <th>temp</th>\n",
       "      <th>dew</th>\n",
       "      <th>humidity</th>\n",
       "      <th>precip</th>\n",
       "      <th>windspeed</th>\n",
       "      <th>pollen_intensity</th>\n",
       "      <th>Clear</th>\n",
       "      <th>Partially cloudy</th>\n",
       "      <th>Rain</th>\n",
       "      <th>Rain, Overcast</th>\n",
       "      <th>Rain, Partially cloudy</th>\n",
       "      <th>tem amplitude</th>\n",
       "      <th>temp cahnge</th>\n",
       "      <th>temp cahnge2</th>\n",
       "      <th>Kmeans label</th>\n",
       "      <th>birch</th>\n",
       "      <th>dbscan</th>\n",
       "      <th>risk level</th>\n",
       "    </tr>\n",
       "  </thead>\n",
       "  <tbody>\n",
       "    <tr>\n",
       "      <th>0</th>\n",
       "      <td>0.193396</td>\n",
       "      <td>0.342975</td>\n",
       "      <td>0.559840</td>\n",
       "      <td>0.000000</td>\n",
       "      <td>0.057087</td>\n",
       "      <td>0.0</td>\n",
       "      <td>1.0</td>\n",
       "      <td>0.0</td>\n",
       "      <td>0.0</td>\n",
       "      <td>0.0</td>\n",
       "      <td>0.0</td>\n",
       "      <td>0.548387</td>\n",
       "      <td>0.500000</td>\n",
       "      <td>0.500000</td>\n",
       "      <td>1</td>\n",
       "      <td>8</td>\n",
       "      <td>0</td>\n",
       "      <td>3</td>\n",
       "    </tr>\n",
       "    <tr>\n",
       "      <th>1</th>\n",
       "      <td>0.165094</td>\n",
       "      <td>0.438017</td>\n",
       "      <td>0.746011</td>\n",
       "      <td>0.000000</td>\n",
       "      <td>0.161417</td>\n",
       "      <td>0.0</td>\n",
       "      <td>1.0</td>\n",
       "      <td>0.0</td>\n",
       "      <td>0.0</td>\n",
       "      <td>0.0</td>\n",
       "      <td>0.0</td>\n",
       "      <td>0.540323</td>\n",
       "      <td>0.450820</td>\n",
       "      <td>0.500000</td>\n",
       "      <td>7</td>\n",
       "      <td>8</td>\n",
       "      <td>0</td>\n",
       "      <td>2</td>\n",
       "    </tr>\n",
       "    <tr>\n",
       "      <th>2</th>\n",
       "      <td>0.000000</td>\n",
       "      <td>0.384298</td>\n",
       "      <td>0.898936</td>\n",
       "      <td>0.000126</td>\n",
       "      <td>0.086614</td>\n",
       "      <td>0.0</td>\n",
       "      <td>0.0</td>\n",
       "      <td>0.0</td>\n",
       "      <td>1.0</td>\n",
       "      <td>0.0</td>\n",
       "      <td>0.0</td>\n",
       "      <td>0.338710</td>\n",
       "      <td>0.213115</td>\n",
       "      <td>0.255952</td>\n",
       "      <td>9</td>\n",
       "      <td>6</td>\n",
       "      <td>1</td>\n",
       "      <td>1</td>\n",
       "    </tr>\n",
       "    <tr>\n",
       "      <th>3</th>\n",
       "      <td>0.108491</td>\n",
       "      <td>0.417355</td>\n",
       "      <td>0.797872</td>\n",
       "      <td>0.000000</td>\n",
       "      <td>0.169291</td>\n",
       "      <td>0.0</td>\n",
       "      <td>1.0</td>\n",
       "      <td>0.0</td>\n",
       "      <td>0.0</td>\n",
       "      <td>0.0</td>\n",
       "      <td>0.0</td>\n",
       "      <td>0.395161</td>\n",
       "      <td>0.688525</td>\n",
       "      <td>0.428571</td>\n",
       "      <td>7</td>\n",
       "      <td>8</td>\n",
       "      <td>0</td>\n",
       "      <td>3</td>\n",
       "    </tr>\n",
       "    <tr>\n",
       "      <th>4</th>\n",
       "      <td>0.146226</td>\n",
       "      <td>0.359504</td>\n",
       "      <td>0.628989</td>\n",
       "      <td>0.000000</td>\n",
       "      <td>0.131890</td>\n",
       "      <td>0.0</td>\n",
       "      <td>1.0</td>\n",
       "      <td>0.0</td>\n",
       "      <td>0.0</td>\n",
       "      <td>0.0</td>\n",
       "      <td>0.0</td>\n",
       "      <td>0.435484</td>\n",
       "      <td>0.565574</td>\n",
       "      <td>0.684524</td>\n",
       "      <td>7</td>\n",
       "      <td>8</td>\n",
       "      <td>0</td>\n",
       "      <td>2</td>\n",
       "    </tr>\n",
       "    <tr>\n",
       "      <th>...</th>\n",
       "      <td>...</td>\n",
       "      <td>...</td>\n",
       "      <td>...</td>\n",
       "      <td>...</td>\n",
       "      <td>...</td>\n",
       "      <td>...</td>\n",
       "      <td>...</td>\n",
       "      <td>...</td>\n",
       "      <td>...</td>\n",
       "      <td>...</td>\n",
       "      <td>...</td>\n",
       "      <td>...</td>\n",
       "      <td>...</td>\n",
       "      <td>...</td>\n",
       "      <td>...</td>\n",
       "      <td>...</td>\n",
       "      <td>...</td>\n",
       "      <td>...</td>\n",
       "    </tr>\n",
       "    <tr>\n",
       "      <th>451</th>\n",
       "      <td>0.278302</td>\n",
       "      <td>0.421488</td>\n",
       "      <td>0.570479</td>\n",
       "      <td>0.000000</td>\n",
       "      <td>0.194882</td>\n",
       "      <td>0.0</td>\n",
       "      <td>0.0</td>\n",
       "      <td>1.0</td>\n",
       "      <td>0.0</td>\n",
       "      <td>0.0</td>\n",
       "      <td>0.0</td>\n",
       "      <td>0.500000</td>\n",
       "      <td>0.450820</td>\n",
       "      <td>0.333333</td>\n",
       "      <td>2</td>\n",
       "      <td>1</td>\n",
       "      <td>3</td>\n",
       "      <td>1</td>\n",
       "    </tr>\n",
       "    <tr>\n",
       "      <th>452</th>\n",
       "      <td>0.287736</td>\n",
       "      <td>0.376033</td>\n",
       "      <td>0.489362</td>\n",
       "      <td>0.000000</td>\n",
       "      <td>0.309055</td>\n",
       "      <td>0.0</td>\n",
       "      <td>0.0</td>\n",
       "      <td>1.0</td>\n",
       "      <td>0.0</td>\n",
       "      <td>0.0</td>\n",
       "      <td>0.0</td>\n",
       "      <td>0.459677</td>\n",
       "      <td>0.516393</td>\n",
       "      <td>0.476190</td>\n",
       "      <td>2</td>\n",
       "      <td>1</td>\n",
       "      <td>3</td>\n",
       "      <td>1</td>\n",
       "    </tr>\n",
       "    <tr>\n",
       "      <th>453</th>\n",
       "      <td>0.330189</td>\n",
       "      <td>0.528926</td>\n",
       "      <td>0.658245</td>\n",
       "      <td>0.000000</td>\n",
       "      <td>0.269685</td>\n",
       "      <td>0.0</td>\n",
       "      <td>0.0</td>\n",
       "      <td>1.0</td>\n",
       "      <td>0.0</td>\n",
       "      <td>0.0</td>\n",
       "      <td>0.0</td>\n",
       "      <td>0.467742</td>\n",
       "      <td>0.573770</td>\n",
       "      <td>0.565476</td>\n",
       "      <td>2</td>\n",
       "      <td>1</td>\n",
       "      <td>3</td>\n",
       "      <td>1</td>\n",
       "    </tr>\n",
       "    <tr>\n",
       "      <th>454</th>\n",
       "      <td>0.231132</td>\n",
       "      <td>0.578512</td>\n",
       "      <td>0.885638</td>\n",
       "      <td>0.219925</td>\n",
       "      <td>0.403543</td>\n",
       "      <td>0.0</td>\n",
       "      <td>0.0</td>\n",
       "      <td>0.0</td>\n",
       "      <td>0.0</td>\n",
       "      <td>0.0</td>\n",
       "      <td>1.0</td>\n",
       "      <td>0.225806</td>\n",
       "      <td>0.327869</td>\n",
       "      <td>0.428571</td>\n",
       "      <td>3</td>\n",
       "      <td>4</td>\n",
       "      <td>2</td>\n",
       "      <td>1</td>\n",
       "    </tr>\n",
       "    <tr>\n",
       "      <th>455</th>\n",
       "      <td>0.084906</td>\n",
       "      <td>0.326446</td>\n",
       "      <td>0.675532</td>\n",
       "      <td>0.012000</td>\n",
       "      <td>0.403543</td>\n",
       "      <td>0.0</td>\n",
       "      <td>0.0</td>\n",
       "      <td>0.0</td>\n",
       "      <td>0.0</td>\n",
       "      <td>0.0</td>\n",
       "      <td>1.0</td>\n",
       "      <td>0.379032</td>\n",
       "      <td>0.245902</td>\n",
       "      <td>0.190476</td>\n",
       "      <td>3</td>\n",
       "      <td>4</td>\n",
       "      <td>2</td>\n",
       "      <td>1</td>\n",
       "    </tr>\n",
       "  </tbody>\n",
       "</table>\n",
       "<p>456 rows × 18 columns</p>\n",
       "</div>"
      ],
      "text/plain": [
       "         temp       dew  humidity    precip  windspeed  pollen_intensity  \\\n",
       "0    0.193396  0.342975  0.559840  0.000000   0.057087               0.0   \n",
       "1    0.165094  0.438017  0.746011  0.000000   0.161417               0.0   \n",
       "2    0.000000  0.384298  0.898936  0.000126   0.086614               0.0   \n",
       "3    0.108491  0.417355  0.797872  0.000000   0.169291               0.0   \n",
       "4    0.146226  0.359504  0.628989  0.000000   0.131890               0.0   \n",
       "..        ...       ...       ...       ...        ...               ...   \n",
       "451  0.278302  0.421488  0.570479  0.000000   0.194882               0.0   \n",
       "452  0.287736  0.376033  0.489362  0.000000   0.309055               0.0   \n",
       "453  0.330189  0.528926  0.658245  0.000000   0.269685               0.0   \n",
       "454  0.231132  0.578512  0.885638  0.219925   0.403543               0.0   \n",
       "455  0.084906  0.326446  0.675532  0.012000   0.403543               0.0   \n",
       "\n",
       "     Clear  Partially cloudy  Rain  Rain, Overcast  Rain, Partially cloudy  \\\n",
       "0      1.0               0.0   0.0             0.0                     0.0   \n",
       "1      1.0               0.0   0.0             0.0                     0.0   \n",
       "2      0.0               0.0   1.0             0.0                     0.0   \n",
       "3      1.0               0.0   0.0             0.0                     0.0   \n",
       "4      1.0               0.0   0.0             0.0                     0.0   \n",
       "..     ...               ...   ...             ...                     ...   \n",
       "451    0.0               1.0   0.0             0.0                     0.0   \n",
       "452    0.0               1.0   0.0             0.0                     0.0   \n",
       "453    0.0               1.0   0.0             0.0                     0.0   \n",
       "454    0.0               0.0   0.0             0.0                     1.0   \n",
       "455    0.0               0.0   0.0             0.0                     1.0   \n",
       "\n",
       "     tem amplitude  temp cahnge  temp cahnge2  Kmeans label  birch  dbscan  \\\n",
       "0         0.548387     0.500000      0.500000             1      8       0   \n",
       "1         0.540323     0.450820      0.500000             7      8       0   \n",
       "2         0.338710     0.213115      0.255952             9      6       1   \n",
       "3         0.395161     0.688525      0.428571             7      8       0   \n",
       "4         0.435484     0.565574      0.684524             7      8       0   \n",
       "..             ...          ...           ...           ...    ...     ...   \n",
       "451       0.500000     0.450820      0.333333             2      1       3   \n",
       "452       0.459677     0.516393      0.476190             2      1       3   \n",
       "453       0.467742     0.573770      0.565476             2      1       3   \n",
       "454       0.225806     0.327869      0.428571             3      4       2   \n",
       "455       0.379032     0.245902      0.190476             3      4       2   \n",
       "\n",
       "     risk level  \n",
       "0             3  \n",
       "1             2  \n",
       "2             1  \n",
       "3             3  \n",
       "4             2  \n",
       "..          ...  \n",
       "451           1  \n",
       "452           1  \n",
       "453           1  \n",
       "454           1  \n",
       "455           1  \n",
       "\n",
       "[456 rows x 18 columns]"
      ]
     },
     "execution_count": 34,
     "metadata": {},
     "output_type": "execute_result"
    }
   ],
   "source": [
    "X['Kmeans label'] = kmean.labels_\n",
    "X['birch'] = birch.labels_\n",
    "X['dbscan'] = dbscan.labels_\n",
    "X['risk level'] = y \n",
    "X"
   ]
  },
  {
   "cell_type": "code",
   "execution_count": 35,
   "id": "311559b3",
   "metadata": {},
   "outputs": [],
   "source": [
    "X.to_csv('result.csv', index=False)"
   ]
  },
  {
   "cell_type": "code",
   "execution_count": 36,
   "id": "d16eec01",
   "metadata": {},
   "outputs": [
    {
     "data": {
      "text/html": [
       "<div>\n",
       "<style scoped>\n",
       "    .dataframe tbody tr th:only-of-type {\n",
       "        vertical-align: middle;\n",
       "    }\n",
       "\n",
       "    .dataframe tbody tr th {\n",
       "        vertical-align: top;\n",
       "    }\n",
       "\n",
       "    .dataframe thead th {\n",
       "        text-align: right;\n",
       "    }\n",
       "</style>\n",
       "<table border=\"1\" class=\"dataframe\">\n",
       "  <thead>\n",
       "    <tr style=\"text-align: right;\">\n",
       "      <th></th>\n",
       "      <th>Kmeans label</th>\n",
       "      <th>birch</th>\n",
       "      <th>dbscan</th>\n",
       "      <th>risk level</th>\n",
       "    </tr>\n",
       "  </thead>\n",
       "  <tbody>\n",
       "    <tr>\n",
       "      <th>Kmeans label</th>\n",
       "      <td>1.000000</td>\n",
       "      <td>-0.139791</td>\n",
       "      <td>-0.325269</td>\n",
       "      <td>-0.077941</td>\n",
       "    </tr>\n",
       "    <tr>\n",
       "      <th>birch</th>\n",
       "      <td>-0.139791</td>\n",
       "      <td>1.000000</td>\n",
       "      <td>-0.404163</td>\n",
       "      <td>0.160645</td>\n",
       "    </tr>\n",
       "    <tr>\n",
       "      <th>dbscan</th>\n",
       "      <td>-0.325269</td>\n",
       "      <td>-0.404163</td>\n",
       "      <td>1.000000</td>\n",
       "      <td>0.026230</td>\n",
       "    </tr>\n",
       "    <tr>\n",
       "      <th>risk level</th>\n",
       "      <td>-0.077941</td>\n",
       "      <td>0.160645</td>\n",
       "      <td>0.026230</td>\n",
       "      <td>1.000000</td>\n",
       "    </tr>\n",
       "  </tbody>\n",
       "</table>\n",
       "</div>"
      ],
      "text/plain": [
       "              Kmeans label     birch    dbscan  risk level\n",
       "Kmeans label      1.000000 -0.139791 -0.325269   -0.077941\n",
       "birch            -0.139791  1.000000 -0.404163    0.160645\n",
       "dbscan           -0.325269 -0.404163  1.000000    0.026230\n",
       "risk level       -0.077941  0.160645  0.026230    1.000000"
      ]
     },
     "execution_count": 36,
     "metadata": {},
     "output_type": "execute_result"
    }
   ],
   "source": [
    "X[['Kmeans label', 'birch', 'dbscan', 'risk level']].corr()"
   ]
  },
  {
   "cell_type": "code",
   "execution_count": 37,
   "id": "c8199d1a",
   "metadata": {},
   "outputs": [
    {
     "data": {
      "text/plain": [
       "2    0.401316\n",
       "1    0.355263\n",
       "3    0.243421\n",
       "Name: risk level, dtype: float64"
      ]
     },
     "execution_count": 37,
     "metadata": {},
     "output_type": "execute_result"
    }
   ],
   "source": [
    "X['risk level'].value_counts(normalize=True)"
   ]
  },
  {
   "cell_type": "code",
   "execution_count": 38,
   "id": "f84dc96d",
   "metadata": {},
   "outputs": [
    {
     "data": {
      "text/plain": [
       "2    0.387097\n",
       "1    0.338710\n",
       "3    0.274194\n",
       "Name: risk level, dtype: float64"
      ]
     },
     "execution_count": 38,
     "metadata": {},
     "output_type": "execute_result"
    }
   ],
   "source": [
    "X[X['Kmeans label']==0]['risk level'].value_counts(normalize=True)"
   ]
  },
  {
   "cell_type": "code",
   "execution_count": 39,
   "id": "453e1feb",
   "metadata": {},
   "outputs": [
    {
     "data": {
      "text/plain": [
       "2    0.428571\n",
       "3    0.309524\n",
       "1    0.261905\n",
       "Name: risk level, dtype: float64"
      ]
     },
     "execution_count": 39,
     "metadata": {},
     "output_type": "execute_result"
    }
   ],
   "source": [
    "X[X['Kmeans label']==1]['risk level'].value_counts(normalize=True)"
   ]
  },
  {
   "cell_type": "code",
   "execution_count": 40,
   "id": "63dd87a1",
   "metadata": {},
   "outputs": [
    {
     "data": {
      "text/plain": [
       "2    0.411765\n",
       "1    0.352941\n",
       "3    0.235294\n",
       "Name: risk level, dtype: float64"
      ]
     },
     "execution_count": 40,
     "metadata": {},
     "output_type": "execute_result"
    }
   ],
   "source": [
    "X[X['Kmeans label']==2]['risk level'].value_counts(normalize=True)"
   ]
  },
  {
   "cell_type": "code",
   "execution_count": 45,
   "id": "509748a7",
   "metadata": {},
   "outputs": [
    {
     "data": {
      "text/plain": [
       "1    1.0\n",
       "Name: risk level, dtype: float64"
      ]
     },
     "execution_count": 45,
     "metadata": {},
     "output_type": "execute_result"
    }
   ],
   "source": [
    "X[X['birch']==0]['risk level'].value_counts(normalize=True)"
   ]
  },
  {
   "cell_type": "code",
   "execution_count": 42,
   "id": "1cbdebdb",
   "metadata": {},
   "outputs": [
    {
     "data": {
      "text/plain": [
       "2    0.411765\n",
       "1    0.352941\n",
       "3    0.235294\n",
       "Name: risk level, dtype: float64"
      ]
     },
     "execution_count": 42,
     "metadata": {},
     "output_type": "execute_result"
    }
   ],
   "source": [
    "X[X['birch']==1]['risk level'].value_counts(normalize=True)"
   ]
  },
  {
   "cell_type": "code",
   "execution_count": 43,
   "id": "cee1f9ad",
   "metadata": {},
   "outputs": [
    {
     "data": {
      "text/plain": [
       "1    0.489362\n",
       "2    0.404255\n",
       "3    0.106383\n",
       "Name: risk level, dtype: float64"
      ]
     },
     "execution_count": 43,
     "metadata": {},
     "output_type": "execute_result"
    }
   ],
   "source": [
    "X[X['birch']==2]['risk level'].value_counts(normalize=True)"
   ]
  },
  {
   "cell_type": "code",
   "execution_count": 46,
   "id": "007da457",
   "metadata": {},
   "outputs": [
    {
     "data": {
      "text/plain": [
       "2    0.440816\n",
       "1    0.351020\n",
       "3    0.208163\n",
       "Name: risk level, dtype: float64"
      ]
     },
     "execution_count": 46,
     "metadata": {},
     "output_type": "execute_result"
    }
   ],
   "source": [
    "X[X['dbscan']==0]['risk level'].value_counts(normalize=True)"
   ]
  },
  {
   "cell_type": "code",
   "execution_count": 47,
   "id": "0dcc68a3",
   "metadata": {},
   "outputs": [
    {
     "data": {
      "text/plain": [
       "1    0.360902\n",
       "2    0.345865\n",
       "3    0.293233\n",
       "Name: risk level, dtype: float64"
      ]
     },
     "execution_count": 47,
     "metadata": {},
     "output_type": "execute_result"
    }
   ],
   "source": [
    "X[X['dbscan']==1]['risk level'].value_counts(normalize=True)"
   ]
  },
  {
   "cell_type": "code",
   "execution_count": 48,
   "id": "56ff06b0",
   "metadata": {},
   "outputs": [
    {
     "data": {
      "text/plain": [
       "2    0.357143\n",
       "1    0.357143\n",
       "3    0.285714\n",
       "Name: risk level, dtype: float64"
      ]
     },
     "execution_count": 48,
     "metadata": {},
     "output_type": "execute_result"
    }
   ],
   "source": [
    "X[X['dbscan']==2]['risk level'].value_counts(normalize=True)"
   ]
  },
  {
   "cell_type": "code",
   "execution_count": 49,
   "id": "889535b9",
   "metadata": {},
   "outputs": [
    {
     "data": {
      "text/plain": [
       "3    0.5\n",
       "1    0.5\n",
       "Name: risk level, dtype: float64"
      ]
     },
     "execution_count": 49,
     "metadata": {},
     "output_type": "execute_result"
    }
   ],
   "source": [
    "X[X['dbscan']==-1]['risk level'].value_counts(normalize=True)"
   ]
  },
  {
   "cell_type": "code",
   "execution_count": 60,
   "id": "861aacc6",
   "metadata": {},
   "outputs": [
    {
     "data": {
      "text/plain": [
       "array([1., 1., 1., 1., 1., 1., 1., 1., 1., 1.])"
      ]
     },
     "execution_count": 60,
     "metadata": {},
     "output_type": "execute_result"
    }
   ],
   "source": [
    "from sklearn.model_selection import cross_val_score\n",
    "from sklearn.tree import DecisionTreeClassifier\n",
    "from sklearn.model_selection import train_test_split\n",
    "clf = DecisionTreeClassifier()\n",
    "# iris = load_iris()\n",
    "cross_val_score(clf, X, y, cv=10)\n"
   ]
  },
  {
   "cell_type": "code",
   "execution_count": 67,
   "id": "43eb0475",
   "metadata": {},
   "outputs": [],
   "source": [
    "xtrian, xtext, ytrain, ytest = train_test_split(X, y, test_size=0.1)"
   ]
  },
  {
   "cell_type": "code",
   "execution_count": 68,
   "id": "9b052177",
   "metadata": {},
   "outputs": [
    {
     "data": {
      "text/html": [
       "<style>#sk-container-id-3 {color: black;background-color: white;}#sk-container-id-3 pre{padding: 0;}#sk-container-id-3 div.sk-toggleable {background-color: white;}#sk-container-id-3 label.sk-toggleable__label {cursor: pointer;display: block;width: 100%;margin-bottom: 0;padding: 0.3em;box-sizing: border-box;text-align: center;}#sk-container-id-3 label.sk-toggleable__label-arrow:before {content: \"▸\";float: left;margin-right: 0.25em;color: #696969;}#sk-container-id-3 label.sk-toggleable__label-arrow:hover:before {color: black;}#sk-container-id-3 div.sk-estimator:hover label.sk-toggleable__label-arrow:before {color: black;}#sk-container-id-3 div.sk-toggleable__content {max-height: 0;max-width: 0;overflow: hidden;text-align: left;background-color: #f0f8ff;}#sk-container-id-3 div.sk-toggleable__content pre {margin: 0.2em;color: black;border-radius: 0.25em;background-color: #f0f8ff;}#sk-container-id-3 input.sk-toggleable__control:checked~div.sk-toggleable__content {max-height: 200px;max-width: 100%;overflow: auto;}#sk-container-id-3 input.sk-toggleable__control:checked~label.sk-toggleable__label-arrow:before {content: \"▾\";}#sk-container-id-3 div.sk-estimator input.sk-toggleable__control:checked~label.sk-toggleable__label {background-color: #d4ebff;}#sk-container-id-3 div.sk-label input.sk-toggleable__control:checked~label.sk-toggleable__label {background-color: #d4ebff;}#sk-container-id-3 input.sk-hidden--visually {border: 0;clip: rect(1px 1px 1px 1px);clip: rect(1px, 1px, 1px, 1px);height: 1px;margin: -1px;overflow: hidden;padding: 0;position: absolute;width: 1px;}#sk-container-id-3 div.sk-estimator {font-family: monospace;background-color: #f0f8ff;border: 1px dotted black;border-radius: 0.25em;box-sizing: border-box;margin-bottom: 0.5em;}#sk-container-id-3 div.sk-estimator:hover {background-color: #d4ebff;}#sk-container-id-3 div.sk-parallel-item::after {content: \"\";width: 100%;border-bottom: 1px solid gray;flex-grow: 1;}#sk-container-id-3 div.sk-label:hover label.sk-toggleable__label {background-color: #d4ebff;}#sk-container-id-3 div.sk-serial::before {content: \"\";position: absolute;border-left: 1px solid gray;box-sizing: border-box;top: 0;bottom: 0;left: 50%;z-index: 0;}#sk-container-id-3 div.sk-serial {display: flex;flex-direction: column;align-items: center;background-color: white;padding-right: 0.2em;padding-left: 0.2em;position: relative;}#sk-container-id-3 div.sk-item {position: relative;z-index: 1;}#sk-container-id-3 div.sk-parallel {display: flex;align-items: stretch;justify-content: center;background-color: white;position: relative;}#sk-container-id-3 div.sk-item::before, #sk-container-id-3 div.sk-parallel-item::before {content: \"\";position: absolute;border-left: 1px solid gray;box-sizing: border-box;top: 0;bottom: 0;left: 50%;z-index: -1;}#sk-container-id-3 div.sk-parallel-item {display: flex;flex-direction: column;z-index: 1;position: relative;background-color: white;}#sk-container-id-3 div.sk-parallel-item:first-child::after {align-self: flex-end;width: 50%;}#sk-container-id-3 div.sk-parallel-item:last-child::after {align-self: flex-start;width: 50%;}#sk-container-id-3 div.sk-parallel-item:only-child::after {width: 0;}#sk-container-id-3 div.sk-dashed-wrapped {border: 1px dashed gray;margin: 0 0.4em 0.5em 0.4em;box-sizing: border-box;padding-bottom: 0.4em;background-color: white;}#sk-container-id-3 div.sk-label label {font-family: monospace;font-weight: bold;display: inline-block;line-height: 1.2em;}#sk-container-id-3 div.sk-label-container {text-align: center;}#sk-container-id-3 div.sk-container {/* jupyter's `normalize.less` sets `[hidden] { display: none; }` but bootstrap.min.css set `[hidden] { display: none !important; }` so we also need the `!important` here to be able to override the default hidden behavior on the sphinx rendered scikit-learn.org. See: https://github.com/scikit-learn/scikit-learn/issues/21755 */display: inline-block !important;position: relative;}#sk-container-id-3 div.sk-text-repr-fallback {display: none;}</style><div id=\"sk-container-id-3\" class=\"sk-top-container\"><div class=\"sk-text-repr-fallback\"><pre>DecisionTreeClassifier()</pre><b>In a Jupyter environment, please rerun this cell to show the HTML representation or trust the notebook. <br />On GitHub, the HTML representation is unable to render, please try loading this page with nbviewer.org.</b></div><div class=\"sk-container\" hidden><div class=\"sk-item\"><div class=\"sk-estimator sk-toggleable\"><input class=\"sk-toggleable__control sk-hidden--visually\" id=\"sk-estimator-id-3\" type=\"checkbox\" checked><label for=\"sk-estimator-id-3\" class=\"sk-toggleable__label sk-toggleable__label-arrow\">DecisionTreeClassifier</label><div class=\"sk-toggleable__content\"><pre>DecisionTreeClassifier()</pre></div></div></div></div></div>"
      ],
      "text/plain": [
       "DecisionTreeClassifier()"
      ]
     },
     "execution_count": 68,
     "metadata": {},
     "output_type": "execute_result"
    }
   ],
   "source": [
    "clf.fit(xtrian, ytrain)"
   ]
  },
  {
   "cell_type": "code",
   "execution_count": 70,
   "id": "7acdd7a7",
   "metadata": {},
   "outputs": [],
   "source": [
    "y_pred = clf.predict(xtext)"
   ]
  },
  {
   "cell_type": "code",
   "execution_count": 71,
   "id": "94ed3142",
   "metadata": {},
   "outputs": [
    {
     "data": {
      "text/plain": [
       "array([[17,  0,  0],\n",
       "       [ 0, 14,  0],\n",
       "       [ 0,  0, 15]])"
      ]
     },
     "execution_count": 71,
     "metadata": {},
     "output_type": "execute_result"
    }
   ],
   "source": [
    "from sklearn.metrics import confusion_matrix\n",
    "confusion_matrix(ytest, y_pred)"
   ]
  },
  {
   "cell_type": "code",
   "execution_count": 89,
   "id": "2ddd41db",
   "metadata": {},
   "outputs": [],
   "source": [
    "y = pd.DataFrame(y)"
   ]
  },
  {
   "cell_type": "code",
   "execution_count": null,
   "id": "63e0000c",
   "metadata": {},
   "outputs": [],
   "source": [
    "from sklearn.model_selection import TimeSeriesSplit\n",
    "tscv = TimeSeriesSplit(n_splits=3)\n",
    "print(tscv)\n",
    "TimeSeriesSplit(max_train_size=None, n_splits=3)\n",
    "for train_index, test_index in tscv.split(X.values):\n",
    "#     print('TRAIN:', train_index, 'TEST:', test_index) \n",
    "    X_train, X_test = X.loc[train_index], X.loc[test_index]\n",
    "    y_train, y_test = y.loc[train_index], y.loc[test_index]\n",
    "    clf.fit(X_train, y_train)\n",
    "    y_pred = clf.predict(X_text)\n",
    "    print(confusion_matrix(y_test, y_pred))"
   ]
  },
  {
   "cell_type": "code",
   "execution_count": 94,
   "id": "6366e325",
   "metadata": {},
   "outputs": [
    {
     "name": "stdout",
     "output_type": "stream",
     "text": [
      "TimeSeriesSplit(gap=0, max_train_size=None, n_splits=3, test_size=None)\n"
     ]
    },
    {
     "ename": "NameError",
     "evalue": "name 'X_text' is not defined",
     "output_type": "error",
     "traceback": [
      "\u001b[0;31m---------------------------------------------------------------------------\u001b[0m",
      "\u001b[0;31mNameError\u001b[0m                                 Traceback (most recent call last)",
      "Cell \u001b[0;32mIn [94], line 10\u001b[0m\n\u001b[1;32m      8\u001b[0m y_train, y_test \u001b[38;5;241m=\u001b[39m y\u001b[38;5;241m.\u001b[39mloc[train_index], y\u001b[38;5;241m.\u001b[39mloc[test_index]\n\u001b[1;32m      9\u001b[0m clf\u001b[38;5;241m.\u001b[39mfit(X_train, y_train)\n\u001b[0;32m---> 10\u001b[0m y_pred \u001b[38;5;241m=\u001b[39m clf\u001b[38;5;241m.\u001b[39mpredict(\u001b[43mX_text\u001b[49m)\n\u001b[1;32m     11\u001b[0m \u001b[38;5;28mprint\u001b[39m(confusion_matrix(ytest, y_pred))\n",
      "\u001b[0;31mNameError\u001b[0m: name 'X_text' is not defined"
     ]
    }
   ],
   "source": []
  },
  {
   "cell_type": "code",
   "execution_count": 92,
   "id": "0afa5bca",
   "metadata": {},
   "outputs": [],
   "source": [
    "# y[1,4,7]"
   ]
  },
  {
   "cell_type": "code",
   "execution_count": null,
   "id": "ba3fb215",
   "metadata": {},
   "outputs": [],
   "source": []
  }
 ],
 "metadata": {
  "kernelspec": {
   "display_name": "Python 3 (ipykernel)",
   "language": "python",
   "name": "python3"
  },
  "language_info": {
   "codemirror_mode": {
    "name": "ipython",
    "version": 3
   },
   "file_extension": ".py",
   "mimetype": "text/x-python",
   "name": "python",
   "nbconvert_exporter": "python",
   "pygments_lexer": "ipython3",
   "version": "3.8.10"
  }
 },
 "nbformat": 4,
 "nbformat_minor": 5
}
